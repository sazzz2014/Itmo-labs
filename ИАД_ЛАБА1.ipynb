{
  "nbformat": 4,
  "nbformat_minor": 0,
  "metadata": {
    "colab": {
      "name": "Untitled5.ipynb",
      "provenance": [],
      "mount_file_id": "1UlC8azz3LSBIARzyF6mVmn54tPNCSPp-",
      "authorship_tag": "ABX9TyNQ0VRR5AyGV7+rvLAWrwD3",
      "include_colab_link": true
    },
    "kernelspec": {
      "name": "python3",
      "display_name": "Python 3"
    },
    "language_info": {
      "name": "python"
    }
  },
  "cells": [
    {
      "cell_type": "markdown",
      "metadata": {
        "id": "view-in-github",
        "colab_type": "text"
      },
      "source": [
        "<a href=\"https://colab.research.google.com/github/sazzz2014/Magistracy/blob/main/%D0%98%D0%90%D0%94_%D0%9B%D0%90%D0%91%D0%901.ipynb\" target=\"_parent\"><img src=\"https://colab.research.google.com/assets/colab-badge.svg\" alt=\"Open In Colab\"/></a>"
      ]
    },
    {
      "cell_type": "code",
      "execution_count": 1,
      "metadata": {
        "id": "9C3FGNfVsgwQ"
      },
      "outputs": [],
      "source": [
        "import pandas as pd"
      ]
    },
    {
      "cell_type": "code",
      "source": [
        "pos = pd.read_csv('drive/MyDrive/Colab/positive.csv', delimiter=\";\", header=None) \n",
        "neg = pd.read_csv('drive/MyDrive/Colab/negative.csv', delimiter=\";\", header=None) \n",
        "pos.columns=[\"id\", \"tdate\", \"tmane\", \"ttext\", \"ttype\", \"trep\", \"trtv\", \"tfav\", \"tstcount\", \"tfol\", \"tfrien\", \"listcount\"]\n",
        "neg.columns=[\"id\", \"tdate\", \"tmane\", \"ttext\", \"ttype\", \"trep\", \"trtv\", \"tfav\", \"tstcount\", \"tfol\", \"tfrien\", \"listcount\"]\n",
        "pos.shape, neg.shape"
      ],
      "metadata": {
        "colab": {
          "base_uri": "https://localhost:8080/"
        },
        "id": "15-2t3y-tYD5",
        "outputId": "336d7a88-038f-498a-e130-ecb11039075e"
      },
      "execution_count": 4,
      "outputs": [
        {
          "output_type": "execute_result",
          "data": {
            "text/plain": [
              "((114911, 12), (111923, 12))"
            ]
          },
          "metadata": {},
          "execution_count": 4
        }
      ]
    },
    {
      "cell_type": "code",
      "source": [
        "pos.head()"
      ],
      "metadata": {
        "colab": {
          "base_uri": "https://localhost:8080/",
          "height": 206
        },
        "id": "lAb0IxkTOcVA",
        "outputId": "b36a2486-a887-4802-f6f9-44ad983dc9cb"
      },
      "execution_count": 5,
      "outputs": [
        {
          "output_type": "execute_result",
          "data": {
            "text/plain": [
              "                   id       tdate            tmane  \\\n",
              "0  408906692374446080  1386325927  pleease_shut_up   \n",
              "1  408906692693221377  1386325927  alinakirpicheva   \n",
              "2  408906695083954177  1386325927        EvgeshaRe   \n",
              "3  408906695356973056  1386325927    ikonnikova_21   \n",
              "4  408906761416867842  1386325943        JumpyAlex   \n",
              "\n",
              "                                               ttext  ttype  trep  trtv  tfav  \\\n",
              "0  @first_timee хоть я и школота, но поверь, у на...      1     0     0     0   \n",
              "1  Да, все-таки он немного похож на него. Но мой ...      1     0     0     0   \n",
              "2  RT @KatiaCheh: Ну ты идиотка) я испугалась за ...      1     0     1     0   \n",
              "3  RT @digger2912: \"Кто то в углу сидит и погибае...      1     0     1     0   \n",
              "4  @irina_dyshkant Вот что значит страшилка :D\\nН...      1     0     0     0   \n",
              "\n",
              "   tstcount  tfol  tfrien  listcount  \n",
              "0      7569    62      61          0  \n",
              "1     11825    59      31          2  \n",
              "2      1273    26      27          0  \n",
              "3      1549    19      17          0  \n",
              "4       597    16      23          1  "
            ],
            "text/html": [
              "\n",
              "  <div id=\"df-ec7f1dd4-7698-4cc8-9150-ca593f22e708\">\n",
              "    <div class=\"colab-df-container\">\n",
              "      <div>\n",
              "<style scoped>\n",
              "    .dataframe tbody tr th:only-of-type {\n",
              "        vertical-align: middle;\n",
              "    }\n",
              "\n",
              "    .dataframe tbody tr th {\n",
              "        vertical-align: top;\n",
              "    }\n",
              "\n",
              "    .dataframe thead th {\n",
              "        text-align: right;\n",
              "    }\n",
              "</style>\n",
              "<table border=\"1\" class=\"dataframe\">\n",
              "  <thead>\n",
              "    <tr style=\"text-align: right;\">\n",
              "      <th></th>\n",
              "      <th>id</th>\n",
              "      <th>tdate</th>\n",
              "      <th>tmane</th>\n",
              "      <th>ttext</th>\n",
              "      <th>ttype</th>\n",
              "      <th>trep</th>\n",
              "      <th>trtv</th>\n",
              "      <th>tfav</th>\n",
              "      <th>tstcount</th>\n",
              "      <th>tfol</th>\n",
              "      <th>tfrien</th>\n",
              "      <th>listcount</th>\n",
              "    </tr>\n",
              "  </thead>\n",
              "  <tbody>\n",
              "    <tr>\n",
              "      <th>0</th>\n",
              "      <td>408906692374446080</td>\n",
              "      <td>1386325927</td>\n",
              "      <td>pleease_shut_up</td>\n",
              "      <td>@first_timee хоть я и школота, но поверь, у на...</td>\n",
              "      <td>1</td>\n",
              "      <td>0</td>\n",
              "      <td>0</td>\n",
              "      <td>0</td>\n",
              "      <td>7569</td>\n",
              "      <td>62</td>\n",
              "      <td>61</td>\n",
              "      <td>0</td>\n",
              "    </tr>\n",
              "    <tr>\n",
              "      <th>1</th>\n",
              "      <td>408906692693221377</td>\n",
              "      <td>1386325927</td>\n",
              "      <td>alinakirpicheva</td>\n",
              "      <td>Да, все-таки он немного похож на него. Но мой ...</td>\n",
              "      <td>1</td>\n",
              "      <td>0</td>\n",
              "      <td>0</td>\n",
              "      <td>0</td>\n",
              "      <td>11825</td>\n",
              "      <td>59</td>\n",
              "      <td>31</td>\n",
              "      <td>2</td>\n",
              "    </tr>\n",
              "    <tr>\n",
              "      <th>2</th>\n",
              "      <td>408906695083954177</td>\n",
              "      <td>1386325927</td>\n",
              "      <td>EvgeshaRe</td>\n",
              "      <td>RT @KatiaCheh: Ну ты идиотка) я испугалась за ...</td>\n",
              "      <td>1</td>\n",
              "      <td>0</td>\n",
              "      <td>1</td>\n",
              "      <td>0</td>\n",
              "      <td>1273</td>\n",
              "      <td>26</td>\n",
              "      <td>27</td>\n",
              "      <td>0</td>\n",
              "    </tr>\n",
              "    <tr>\n",
              "      <th>3</th>\n",
              "      <td>408906695356973056</td>\n",
              "      <td>1386325927</td>\n",
              "      <td>ikonnikova_21</td>\n",
              "      <td>RT @digger2912: \"Кто то в углу сидит и погибае...</td>\n",
              "      <td>1</td>\n",
              "      <td>0</td>\n",
              "      <td>1</td>\n",
              "      <td>0</td>\n",
              "      <td>1549</td>\n",
              "      <td>19</td>\n",
              "      <td>17</td>\n",
              "      <td>0</td>\n",
              "    </tr>\n",
              "    <tr>\n",
              "      <th>4</th>\n",
              "      <td>408906761416867842</td>\n",
              "      <td>1386325943</td>\n",
              "      <td>JumpyAlex</td>\n",
              "      <td>@irina_dyshkant Вот что значит страшилка :D\\nН...</td>\n",
              "      <td>1</td>\n",
              "      <td>0</td>\n",
              "      <td>0</td>\n",
              "      <td>0</td>\n",
              "      <td>597</td>\n",
              "      <td>16</td>\n",
              "      <td>23</td>\n",
              "      <td>1</td>\n",
              "    </tr>\n",
              "  </tbody>\n",
              "</table>\n",
              "</div>\n",
              "      <button class=\"colab-df-convert\" onclick=\"convertToInteractive('df-ec7f1dd4-7698-4cc8-9150-ca593f22e708')\"\n",
              "              title=\"Convert this dataframe to an interactive table.\"\n",
              "              style=\"display:none;\">\n",
              "        \n",
              "  <svg xmlns=\"http://www.w3.org/2000/svg\" height=\"24px\"viewBox=\"0 0 24 24\"\n",
              "       width=\"24px\">\n",
              "    <path d=\"M0 0h24v24H0V0z\" fill=\"none\"/>\n",
              "    <path d=\"M18.56 5.44l.94 2.06.94-2.06 2.06-.94-2.06-.94-.94-2.06-.94 2.06-2.06.94zm-11 1L8.5 8.5l.94-2.06 2.06-.94-2.06-.94L8.5 2.5l-.94 2.06-2.06.94zm10 10l.94 2.06.94-2.06 2.06-.94-2.06-.94-.94-2.06-.94 2.06-2.06.94z\"/><path d=\"M17.41 7.96l-1.37-1.37c-.4-.4-.92-.59-1.43-.59-.52 0-1.04.2-1.43.59L10.3 9.45l-7.72 7.72c-.78.78-.78 2.05 0 2.83L4 21.41c.39.39.9.59 1.41.59.51 0 1.02-.2 1.41-.59l7.78-7.78 2.81-2.81c.8-.78.8-2.07 0-2.86zM5.41 20L4 18.59l7.72-7.72 1.47 1.35L5.41 20z\"/>\n",
              "  </svg>\n",
              "      </button>\n",
              "      \n",
              "  <style>\n",
              "    .colab-df-container {\n",
              "      display:flex;\n",
              "      flex-wrap:wrap;\n",
              "      gap: 12px;\n",
              "    }\n",
              "\n",
              "    .colab-df-convert {\n",
              "      background-color: #E8F0FE;\n",
              "      border: none;\n",
              "      border-radius: 50%;\n",
              "      cursor: pointer;\n",
              "      display: none;\n",
              "      fill: #1967D2;\n",
              "      height: 32px;\n",
              "      padding: 0 0 0 0;\n",
              "      width: 32px;\n",
              "    }\n",
              "\n",
              "    .colab-df-convert:hover {\n",
              "      background-color: #E2EBFA;\n",
              "      box-shadow: 0px 1px 2px rgba(60, 64, 67, 0.3), 0px 1px 3px 1px rgba(60, 64, 67, 0.15);\n",
              "      fill: #174EA6;\n",
              "    }\n",
              "\n",
              "    [theme=dark] .colab-df-convert {\n",
              "      background-color: #3B4455;\n",
              "      fill: #D2E3FC;\n",
              "    }\n",
              "\n",
              "    [theme=dark] .colab-df-convert:hover {\n",
              "      background-color: #434B5C;\n",
              "      box-shadow: 0px 1px 3px 1px rgba(0, 0, 0, 0.15);\n",
              "      filter: drop-shadow(0px 1px 2px rgba(0, 0, 0, 0.3));\n",
              "      fill: #FFFFFF;\n",
              "    }\n",
              "  </style>\n",
              "\n",
              "      <script>\n",
              "        const buttonEl =\n",
              "          document.querySelector('#df-ec7f1dd4-7698-4cc8-9150-ca593f22e708 button.colab-df-convert');\n",
              "        buttonEl.style.display =\n",
              "          google.colab.kernel.accessAllowed ? 'block' : 'none';\n",
              "\n",
              "        async function convertToInteractive(key) {\n",
              "          const element = document.querySelector('#df-ec7f1dd4-7698-4cc8-9150-ca593f22e708');\n",
              "          const dataTable =\n",
              "            await google.colab.kernel.invokeFunction('convertToInteractive',\n",
              "                                                     [key], {});\n",
              "          if (!dataTable) return;\n",
              "\n",
              "          const docLinkHtml = 'Like what you see? Visit the ' +\n",
              "            '<a target=\"_blank\" href=https://colab.research.google.com/notebooks/data_table.ipynb>data table notebook</a>'\n",
              "            + ' to learn more about interactive tables.';\n",
              "          element.innerHTML = '';\n",
              "          dataTable['output_type'] = 'display_data';\n",
              "          await google.colab.output.renderOutput(dataTable, element);\n",
              "          const docLink = document.createElement('div');\n",
              "          docLink.innerHTML = docLinkHtml;\n",
              "          element.appendChild(docLink);\n",
              "        }\n",
              "      </script>\n",
              "    </div>\n",
              "  </div>\n",
              "  "
            ]
          },
          "metadata": {},
          "execution_count": 5
        }
      ]
    },
    {
      "cell_type": "code",
      "source": [
        "neg.head()"
      ],
      "metadata": {
        "colab": {
          "base_uri": "https://localhost:8080/",
          "height": 206
        },
        "id": "aH83mUFdtYI5",
        "outputId": "fb45b861-ae43-440c-b404-857c4ff54a59"
      },
      "execution_count": 6,
      "outputs": [
        {
          "output_type": "execute_result",
          "data": {
            "text/plain": [
              "                   id       tdate            tmane  \\\n",
              "0  408906762813579264  1386325944  dugarchikbellko   \n",
              "1  408906818262687744  1386325957     nugemycejela   \n",
              "2  408906858515398656  1386325966          4post21   \n",
              "3  408906914437685248  1386325980         Poliwake   \n",
              "4  408906914723295232  1386325980       capyvixowe   \n",
              "\n",
              "                                               ttext  ttype  trep  trtv  tfav  \\\n",
              "0  на работе был полный пиддес :| и так каждое за...     -1     0     0     0   \n",
              "1  Коллеги сидят рубятся в Urban terror, а я из-з...     -1     0     0     0   \n",
              "2  @elina_4post как говорят обещаного три года жд...     -1     0     0     0   \n",
              "3  Желаю хорошего полёта и удачной посадки,я буду...     -1     0     0     0   \n",
              "4  Обновил за каким-то лешим surf, теперь не рабо...     -1     0     0     0   \n",
              "\n",
              "   tstcount  tfol  tfrien  listcount  \n",
              "0      8064   111      94          2  \n",
              "1        26    42      39          0  \n",
              "2       718    49     249          0  \n",
              "3     10628   207     200          0  \n",
              "4        35    17      34          0  "
            ],
            "text/html": [
              "\n",
              "  <div id=\"df-411de9a4-11f7-4100-9997-9c9cd86962a7\">\n",
              "    <div class=\"colab-df-container\">\n",
              "      <div>\n",
              "<style scoped>\n",
              "    .dataframe tbody tr th:only-of-type {\n",
              "        vertical-align: middle;\n",
              "    }\n",
              "\n",
              "    .dataframe tbody tr th {\n",
              "        vertical-align: top;\n",
              "    }\n",
              "\n",
              "    .dataframe thead th {\n",
              "        text-align: right;\n",
              "    }\n",
              "</style>\n",
              "<table border=\"1\" class=\"dataframe\">\n",
              "  <thead>\n",
              "    <tr style=\"text-align: right;\">\n",
              "      <th></th>\n",
              "      <th>id</th>\n",
              "      <th>tdate</th>\n",
              "      <th>tmane</th>\n",
              "      <th>ttext</th>\n",
              "      <th>ttype</th>\n",
              "      <th>trep</th>\n",
              "      <th>trtv</th>\n",
              "      <th>tfav</th>\n",
              "      <th>tstcount</th>\n",
              "      <th>tfol</th>\n",
              "      <th>tfrien</th>\n",
              "      <th>listcount</th>\n",
              "    </tr>\n",
              "  </thead>\n",
              "  <tbody>\n",
              "    <tr>\n",
              "      <th>0</th>\n",
              "      <td>408906762813579264</td>\n",
              "      <td>1386325944</td>\n",
              "      <td>dugarchikbellko</td>\n",
              "      <td>на работе был полный пиддес :| и так каждое за...</td>\n",
              "      <td>-1</td>\n",
              "      <td>0</td>\n",
              "      <td>0</td>\n",
              "      <td>0</td>\n",
              "      <td>8064</td>\n",
              "      <td>111</td>\n",
              "      <td>94</td>\n",
              "      <td>2</td>\n",
              "    </tr>\n",
              "    <tr>\n",
              "      <th>1</th>\n",
              "      <td>408906818262687744</td>\n",
              "      <td>1386325957</td>\n",
              "      <td>nugemycejela</td>\n",
              "      <td>Коллеги сидят рубятся в Urban terror, а я из-з...</td>\n",
              "      <td>-1</td>\n",
              "      <td>0</td>\n",
              "      <td>0</td>\n",
              "      <td>0</td>\n",
              "      <td>26</td>\n",
              "      <td>42</td>\n",
              "      <td>39</td>\n",
              "      <td>0</td>\n",
              "    </tr>\n",
              "    <tr>\n",
              "      <th>2</th>\n",
              "      <td>408906858515398656</td>\n",
              "      <td>1386325966</td>\n",
              "      <td>4post21</td>\n",
              "      <td>@elina_4post как говорят обещаного три года жд...</td>\n",
              "      <td>-1</td>\n",
              "      <td>0</td>\n",
              "      <td>0</td>\n",
              "      <td>0</td>\n",
              "      <td>718</td>\n",
              "      <td>49</td>\n",
              "      <td>249</td>\n",
              "      <td>0</td>\n",
              "    </tr>\n",
              "    <tr>\n",
              "      <th>3</th>\n",
              "      <td>408906914437685248</td>\n",
              "      <td>1386325980</td>\n",
              "      <td>Poliwake</td>\n",
              "      <td>Желаю хорошего полёта и удачной посадки,я буду...</td>\n",
              "      <td>-1</td>\n",
              "      <td>0</td>\n",
              "      <td>0</td>\n",
              "      <td>0</td>\n",
              "      <td>10628</td>\n",
              "      <td>207</td>\n",
              "      <td>200</td>\n",
              "      <td>0</td>\n",
              "    </tr>\n",
              "    <tr>\n",
              "      <th>4</th>\n",
              "      <td>408906914723295232</td>\n",
              "      <td>1386325980</td>\n",
              "      <td>capyvixowe</td>\n",
              "      <td>Обновил за каким-то лешим surf, теперь не рабо...</td>\n",
              "      <td>-1</td>\n",
              "      <td>0</td>\n",
              "      <td>0</td>\n",
              "      <td>0</td>\n",
              "      <td>35</td>\n",
              "      <td>17</td>\n",
              "      <td>34</td>\n",
              "      <td>0</td>\n",
              "    </tr>\n",
              "  </tbody>\n",
              "</table>\n",
              "</div>\n",
              "      <button class=\"colab-df-convert\" onclick=\"convertToInteractive('df-411de9a4-11f7-4100-9997-9c9cd86962a7')\"\n",
              "              title=\"Convert this dataframe to an interactive table.\"\n",
              "              style=\"display:none;\">\n",
              "        \n",
              "  <svg xmlns=\"http://www.w3.org/2000/svg\" height=\"24px\"viewBox=\"0 0 24 24\"\n",
              "       width=\"24px\">\n",
              "    <path d=\"M0 0h24v24H0V0z\" fill=\"none\"/>\n",
              "    <path d=\"M18.56 5.44l.94 2.06.94-2.06 2.06-.94-2.06-.94-.94-2.06-.94 2.06-2.06.94zm-11 1L8.5 8.5l.94-2.06 2.06-.94-2.06-.94L8.5 2.5l-.94 2.06-2.06.94zm10 10l.94 2.06.94-2.06 2.06-.94-2.06-.94-.94-2.06-.94 2.06-2.06.94z\"/><path d=\"M17.41 7.96l-1.37-1.37c-.4-.4-.92-.59-1.43-.59-.52 0-1.04.2-1.43.59L10.3 9.45l-7.72 7.72c-.78.78-.78 2.05 0 2.83L4 21.41c.39.39.9.59 1.41.59.51 0 1.02-.2 1.41-.59l7.78-7.78 2.81-2.81c.8-.78.8-2.07 0-2.86zM5.41 20L4 18.59l7.72-7.72 1.47 1.35L5.41 20z\"/>\n",
              "  </svg>\n",
              "      </button>\n",
              "      \n",
              "  <style>\n",
              "    .colab-df-container {\n",
              "      display:flex;\n",
              "      flex-wrap:wrap;\n",
              "      gap: 12px;\n",
              "    }\n",
              "\n",
              "    .colab-df-convert {\n",
              "      background-color: #E8F0FE;\n",
              "      border: none;\n",
              "      border-radius: 50%;\n",
              "      cursor: pointer;\n",
              "      display: none;\n",
              "      fill: #1967D2;\n",
              "      height: 32px;\n",
              "      padding: 0 0 0 0;\n",
              "      width: 32px;\n",
              "    }\n",
              "\n",
              "    .colab-df-convert:hover {\n",
              "      background-color: #E2EBFA;\n",
              "      box-shadow: 0px 1px 2px rgba(60, 64, 67, 0.3), 0px 1px 3px 1px rgba(60, 64, 67, 0.15);\n",
              "      fill: #174EA6;\n",
              "    }\n",
              "\n",
              "    [theme=dark] .colab-df-convert {\n",
              "      background-color: #3B4455;\n",
              "      fill: #D2E3FC;\n",
              "    }\n",
              "\n",
              "    [theme=dark] .colab-df-convert:hover {\n",
              "      background-color: #434B5C;\n",
              "      box-shadow: 0px 1px 3px 1px rgba(0, 0, 0, 0.15);\n",
              "      filter: drop-shadow(0px 1px 2px rgba(0, 0, 0, 0.3));\n",
              "      fill: #FFFFFF;\n",
              "    }\n",
              "  </style>\n",
              "\n",
              "      <script>\n",
              "        const buttonEl =\n",
              "          document.querySelector('#df-411de9a4-11f7-4100-9997-9c9cd86962a7 button.colab-df-convert');\n",
              "        buttonEl.style.display =\n",
              "          google.colab.kernel.accessAllowed ? 'block' : 'none';\n",
              "\n",
              "        async function convertToInteractive(key) {\n",
              "          const element = document.querySelector('#df-411de9a4-11f7-4100-9997-9c9cd86962a7');\n",
              "          const dataTable =\n",
              "            await google.colab.kernel.invokeFunction('convertToInteractive',\n",
              "                                                     [key], {});\n",
              "          if (!dataTable) return;\n",
              "\n",
              "          const docLinkHtml = 'Like what you see? Visit the ' +\n",
              "            '<a target=\"_blank\" href=https://colab.research.google.com/notebooks/data_table.ipynb>data table notebook</a>'\n",
              "            + ' to learn more about interactive tables.';\n",
              "          element.innerHTML = '';\n",
              "          dataTable['output_type'] = 'display_data';\n",
              "          await google.colab.output.renderOutput(dataTable, element);\n",
              "          const docLink = document.createElement('div');\n",
              "          docLink.innerHTML = docLinkHtml;\n",
              "          element.appendChild(docLink);\n",
              "        }\n",
              "      </script>\n",
              "    </div>\n",
              "  </div>\n",
              "  "
            ]
          },
          "metadata": {},
          "execution_count": 6
        }
      ]
    },
    {
      "cell_type": "markdown",
      "source": [
        "# Задание 2. ДОДЕЛАТЬ!\n",
        "\n"
      ],
      "metadata": {
        "id": "7rC8C6SZw1S7"
      }
    },
    {
      "cell_type": "code",
      "source": [
        "pos[\"trtv\"].mean(), neg[\"trtv\"].mean()"
      ],
      "metadata": {
        "colab": {
          "base_uri": "https://localhost:8080/"
        },
        "id": "_vXCMgoWtYPc",
        "outputId": "8dd0f588-9c4c-4f0e-c118-edf96dc11a72"
      },
      "execution_count": 7,
      "outputs": [
        {
          "output_type": "execute_result",
          "data": {
            "text/plain": [
              "(4.166494069323216, 2.0420199601511753)"
            ]
          },
          "metadata": {},
          "execution_count": 7
        }
      ]
    },
    {
      "cell_type": "markdown",
      "source": [
        "# Со звездочкой\n",
        "\n"
      ],
      "metadata": {
        "id": "IYD0SK7qJYCm"
      }
    },
    {
      "cell_type": "markdown",
      "source": [
        "# Задание 3."
      ],
      "metadata": {
        "id": "ADZsRePIxNiU"
      }
    },
    {
      "cell_type": "code",
      "source": [
        "import re\n",
        "tokenizeString = []\n",
        "countTokenize = []\n",
        "for i in pos['ttext']:\n",
        "  tokenizeString.append(re.findall(r'\\w+', i))\n",
        "  countTokenize.append(len(re.findall(r'\\w+', i)))\n"
      ],
      "metadata": {
        "id": "Rvuy4JsLxbuE"
      },
      "execution_count": 8,
      "outputs": []
    },
    {
      "cell_type": "code",
      "source": [
        "print(countTokenize[0], tokenizeString[0])\n",
        "print(countTokenize[1], tokenizeString[1])"
      ],
      "metadata": {
        "colab": {
          "base_uri": "https://localhost:8080/"
        },
        "id": "gF-ziFgw8Roa",
        "outputId": "88c6e47e-a3d8-41c4-a02d-15379e65545e"
      },
      "execution_count": 9,
      "outputs": [
        {
          "output_type": "stream",
          "name": "stdout",
          "text": [
            "17 ['first_timee', 'хоть', 'я', 'и', 'школота', 'но', 'поверь', 'у', 'нас', 'то', 'же', 'самое', 'D', 'общество', 'профилирующий', 'предмет', 'типа']\n",
            "15 ['Да', 'все', 'таки', 'он', 'немного', 'похож', 'на', 'него', 'Но', 'мой', 'мальчик', 'все', 'равно', 'лучше', 'D']\n"
          ]
        }
      ]
    },
    {
      "cell_type": "markdown",
      "source": [
        "# Задание 4."
      ],
      "metadata": {
        "id": "tuLlki9axNqx"
      }
    },
    {
      "cell_type": "code",
      "source": [
        "import nltk\n",
        "nltk.download('punkt')"
      ],
      "metadata": {
        "colab": {
          "base_uri": "https://localhost:8080/"
        },
        "id": "vyQZQ3iu4wzu",
        "outputId": "776f064a-1f16-41a3-9a29-0eeafa06fee4"
      },
      "execution_count": 10,
      "outputs": [
        {
          "output_type": "stream",
          "name": "stdout",
          "text": [
            "[nltk_data] Downloading package punkt to /root/nltk_data...\n",
            "[nltk_data]   Unzipping tokenizers/punkt.zip.\n"
          ]
        },
        {
          "output_type": "execute_result",
          "data": {
            "text/plain": [
              "True"
            ]
          },
          "metadata": {},
          "execution_count": 10
        }
      ]
    },
    {
      "cell_type": "code",
      "source": [
        "from nltk.tokenize import word_tokenize\n",
        "import string\n",
        "punctuations = list(string.punctuation)\n",
        "print(punctuations)"
      ],
      "metadata": {
        "colab": {
          "base_uri": "https://localhost:8080/"
        },
        "id": "kInpELqW82Il",
        "outputId": "851cbb7d-05af-4680-85cf-d4c82fab7152"
      },
      "execution_count": 11,
      "outputs": [
        {
          "output_type": "stream",
          "name": "stdout",
          "text": [
            "['!', '\"', '#', '$', '%', '&', \"'\", '(', ')', '*', '+', ',', '-', '.', '/', ':', ';', '<', '=', '>', '?', '@', '[', '\\\\', ']', '^', '_', '`', '{', '|', '}', '~']\n"
          ]
        }
      ]
    },
    {
      "cell_type": "code",
      "source": [
        "sent = []\n",
        "for j in pos['ttext']:\n",
        "  q = [i.lower() for i in word_tokenize(j) if i not in punctuations]\n",
        "  sent.append(q)"
      ],
      "metadata": {
        "id": "BFwpKlb-4w2N"
      },
      "execution_count": 12,
      "outputs": []
    },
    {
      "cell_type": "code",
      "source": [
        "print(sent[0])\n",
        "print(sent[1])\n",
        "print(sent[2])\n",
        "print(sent[3])\n",
        "print(sent[4])"
      ],
      "metadata": {
        "colab": {
          "base_uri": "https://localhost:8080/"
        },
        "id": "KvFPCykM4xFJ",
        "outputId": "2eff380c-ec60-4785-cdb7-1ba96ce1c48e"
      },
      "execution_count": 13,
      "outputs": [
        {
          "output_type": "stream",
          "name": "stdout",
          "text": [
            "['first_timee', 'хоть', 'я', 'и', 'школота', 'но', 'поверь', 'у', 'нас', 'то', 'же', 'самое', 'd', 'общество', 'профилирующий', 'предмет', 'типа']\n",
            "['да', 'все-таки', 'он', 'немного', 'похож', 'на', 'него', 'но', 'мой', 'мальчик', 'все', 'равно', 'лучше', 'd']\n",
            "['rt', 'katiacheh', 'ну', 'ты', 'идиотка', 'я', 'испугалась', 'за', 'тебя']\n",
            "['rt', 'digger2912', '``', 'кто', 'то', 'в', 'углу', 'сидит', 'и', 'погибает', 'от', 'голода', 'а', 'мы', 'ещё', '2', 'порции', 'взяли', 'хотя', 'уже', 'и', 'так', 'жрать', 'не', 'хотим', \"''\", 'dd', 'http', '//t.co/gqg6iue2…']\n",
            "['irina_dyshkant', 'вот', 'что', 'значит', 'страшилка', 'd', 'но', 'блин', 'посмотрев', 'все', 'части', 'у', 'тебя', 'создастся', 'ощущение', 'что', 'авторы', 'курили', 'что-то', 'd']\n"
          ]
        }
      ]
    },
    {
      "cell_type": "code",
      "source": [
        "pos['ttext'][1]"
      ],
      "metadata": {
        "colab": {
          "base_uri": "https://localhost:8080/",
          "height": 35
        },
        "id": "DDi64871Renz",
        "outputId": "d57ddd4d-adbd-45ef-90ce-dab1e38b7ae2"
      },
      "execution_count": 14,
      "outputs": [
        {
          "output_type": "execute_result",
          "data": {
            "text/plain": [
              "'Да, все-таки он немного похож на него. Но мой мальчик все равно лучше:D'"
            ],
            "application/vnd.google.colaboratory.intrinsic+json": {
              "type": "string"
            }
          },
          "metadata": {},
          "execution_count": 14
        }
      ]
    },
    {
      "cell_type": "markdown",
      "source": [
        "# Задание 5."
      ],
      "metadata": {
        "id": "jmtnParZxNtm"
      }
    },
    {
      "cell_type": "code",
      "source": [
        "!pip install pymorphy2[fast]\n",
        "!pip install -U pymorphy2-dicts-ru"
      ],
      "metadata": {
        "colab": {
          "base_uri": "https://localhost:8080/"
        },
        "id": "ZQyQXH__GrYK",
        "outputId": "22e70104-d3e8-40d0-f7e1-2b7cd7034b45"
      },
      "execution_count": 15,
      "outputs": [
        {
          "output_type": "stream",
          "name": "stdout",
          "text": [
            "Collecting pymorphy2[fast]\n",
            "  Downloading pymorphy2-0.9.1-py3-none-any.whl (55 kB)\n",
            "\u001b[?25l\r\u001b[K     |██████                          | 10 kB 20.9 MB/s eta 0:00:01\r\u001b[K     |███████████▉                    | 20 kB 12.4 MB/s eta 0:00:01\r\u001b[K     |█████████████████▊              | 30 kB 10.0 MB/s eta 0:00:01\r\u001b[K     |███████████████████████▋        | 40 kB 8.8 MB/s eta 0:00:01\r\u001b[K     |█████████████████████████████▌  | 51 kB 5.2 MB/s eta 0:00:01\r\u001b[K     |████████████████████████████████| 55 kB 2.1 MB/s \n",
            "\u001b[?25hCollecting pymorphy2-dicts-ru<3.0,>=2.4\n",
            "  Downloading pymorphy2_dicts_ru-2.4.417127.4579844-py2.py3-none-any.whl (8.2 MB)\n",
            "\u001b[K     |████████████████████████████████| 8.2 MB 10.2 MB/s \n",
            "\u001b[?25hRequirement already satisfied: docopt>=0.6 in /usr/local/lib/python3.7/dist-packages (from pymorphy2[fast]) (0.6.2)\n",
            "Collecting dawg-python>=0.7.1\n",
            "  Downloading DAWG_Python-0.7.2-py2.py3-none-any.whl (11 kB)\n",
            "Collecting DAWG>=0.8\n",
            "  Downloading DAWG-0.8.0.tar.gz (371 kB)\n",
            "\u001b[K     |████████████████████████████████| 371 kB 58.8 MB/s \n",
            "\u001b[?25hBuilding wheels for collected packages: DAWG\n",
            "  Building wheel for DAWG (setup.py) ... \u001b[?25l\u001b[?25hdone\n",
            "  Created wheel for DAWG: filename=DAWG-0.8.0-cp37-cp37m-linux_x86_64.whl size=834291 sha256=db930ed5132ee5c5a5924644c233906264cf36f1902dbc3548b890f384297573\n",
            "  Stored in directory: /root/.cache/pip/wheels/85/51/a4/2de41ff197786537075027c27b479a38da92f50abc86634445\n",
            "Successfully built DAWG\n",
            "Installing collected packages: pymorphy2-dicts-ru, dawg-python, pymorphy2, DAWG\n",
            "Successfully installed DAWG-0.8.0 dawg-python-0.7.2 pymorphy2-0.9.1 pymorphy2-dicts-ru-2.4.417127.4579844\n",
            "Requirement already satisfied: pymorphy2-dicts-ru in /usr/local/lib/python3.7/dist-packages (2.4.417127.4579844)\n"
          ]
        }
      ]
    },
    {
      "cell_type": "code",
      "source": [
        "import pymorphy2\n",
        "morph = pymorphy2.MorphAnalyzer()"
      ],
      "metadata": {
        "id": "CuOjjalWGrbk"
      },
      "execution_count": 16,
      "outputs": []
    },
    {
      "cell_type": "code",
      "source": [
        "morph.parse('думающему')[0].normal_form"
      ],
      "metadata": {
        "colab": {
          "base_uri": "https://localhost:8080/",
          "height": 35
        },
        "id": "89yKSdlCGrfS",
        "outputId": "582cb09a-04a6-412e-eb95-a55b1625ec88"
      },
      "execution_count": 17,
      "outputs": [
        {
          "output_type": "execute_result",
          "data": {
            "text/plain": [
              "'думать'"
            ],
            "application/vnd.google.colaboratory.intrinsic+json": {
              "type": "string"
            }
          },
          "metadata": {},
          "execution_count": 17
        }
      ]
    },
    {
      "cell_type": "code",
      "source": [
        "for i in sent[:5]:\n",
        "  print(i)"
      ],
      "metadata": {
        "colab": {
          "base_uri": "https://localhost:8080/"
        },
        "id": "vEW_Za5uIdkB",
        "outputId": "c65eca0b-144c-4e1e-9929-3436d385fda7"
      },
      "execution_count": 18,
      "outputs": [
        {
          "output_type": "stream",
          "name": "stdout",
          "text": [
            "['first_timee', 'хоть', 'я', 'и', 'школота', 'но', 'поверь', 'у', 'нас', 'то', 'же', 'самое', 'd', 'общество', 'профилирующий', 'предмет', 'типа']\n",
            "['да', 'все-таки', 'он', 'немного', 'похож', 'на', 'него', 'но', 'мой', 'мальчик', 'все', 'равно', 'лучше', 'd']\n",
            "['rt', 'katiacheh', 'ну', 'ты', 'идиотка', 'я', 'испугалась', 'за', 'тебя']\n",
            "['rt', 'digger2912', '``', 'кто', 'то', 'в', 'углу', 'сидит', 'и', 'погибает', 'от', 'голода', 'а', 'мы', 'ещё', '2', 'порции', 'взяли', 'хотя', 'уже', 'и', 'так', 'жрать', 'не', 'хотим', \"''\", 'dd', 'http', '//t.co/gqg6iue2…']\n",
            "['irina_dyshkant', 'вот', 'что', 'значит', 'страшилка', 'd', 'но', 'блин', 'посмотрев', 'все', 'части', 'у', 'тебя', 'создастся', 'ощущение', 'что', 'авторы', 'курили', 'что-то', 'd']\n"
          ]
        }
      ]
    },
    {
      "cell_type": "code",
      "source": [
        "for i in sent[:5]:\n",
        "  normalize = []\n",
        "  for j in i:\n",
        "    normalize.append(morph.parse(j)[0].normal_form)\n",
        "  print(normalize)"
      ],
      "metadata": {
        "colab": {
          "base_uri": "https://localhost:8080/"
        },
        "id": "RsZMvKAgIsXh",
        "outputId": "7cc85b81-6c89-46ac-a54c-308dfe9ee636"
      },
      "execution_count": 19,
      "outputs": [
        {
          "output_type": "stream",
          "name": "stdout",
          "text": [
            "['first_timee', 'хоть', 'я', 'и', 'школотый', 'но', 'поверь', 'у', 'мы', 'то', 'же', 'самый', 'd', 'общество', 'профилировать', 'предмет', 'тип']\n",
            "['да', 'всё-таки', 'он', 'немного', 'похожий', 'на', 'он', 'но', 'мой', 'мальчик', 'всё', 'равно', 'хороший', 'd']\n",
            "['rt', 'katiacheh', 'ну', 'ты', 'идиотка', 'я', 'испугаться', 'за', 'ты']\n",
            "['rt', 'digger2912', '``', 'кто', 'то', 'в', 'угол', 'сидеть', 'и', 'погибать', 'от', 'голод', 'а', 'мы', 'ещё', '2', 'порция', 'взять', 'хотя', 'уже', 'и', 'так', 'жрать', 'не', 'хотеть', \"''\", 'dd', 'http', '//t.co/gqg6iue2…']\n",
            "['irina_dyshkant', 'вот', 'что', 'значит', 'страшилка', 'd', 'но', 'блин', 'посмотреть', 'всё', 'часть', 'у', 'ты', 'создаться', 'ощущение', 'что', 'автор', 'курить', 'что-то', 'd']\n"
          ]
        }
      ]
    },
    {
      "cell_type": "markdown",
      "source": [
        "# Со звездочкой."
      ],
      "metadata": {
        "id": "ddNY8W4bxNy2"
      }
    },
    {
      "cell_type": "code",
      "source": [
        "!pip install pymystem3"
      ],
      "metadata": {
        "colab": {
          "base_uri": "https://localhost:8080/"
        },
        "id": "5dclAZ8vJQuN",
        "outputId": "260ab4fa-fbdd-40cc-95e1-e0e5b6c00376"
      },
      "execution_count": 20,
      "outputs": [
        {
          "output_type": "stream",
          "name": "stdout",
          "text": [
            "Requirement already satisfied: pymystem3 in /usr/local/lib/python3.7/dist-packages (0.2.0)\n",
            "Requirement already satisfied: requests in /usr/local/lib/python3.7/dist-packages (from pymystem3) (2.23.0)\n",
            "Requirement already satisfied: chardet<4,>=3.0.2 in /usr/local/lib/python3.7/dist-packages (from requests->pymystem3) (3.0.4)\n",
            "Requirement already satisfied: idna<3,>=2.5 in /usr/local/lib/python3.7/dist-packages (from requests->pymystem3) (2.10)\n",
            "Requirement already satisfied: urllib3!=1.25.0,!=1.25.1,<1.26,>=1.21.1 in /usr/local/lib/python3.7/dist-packages (from requests->pymystem3) (1.24.3)\n",
            "Requirement already satisfied: certifi>=2017.4.17 in /usr/local/lib/python3.7/dist-packages (from requests->pymystem3) (2021.10.8)\n"
          ]
        }
      ]
    },
    {
      "cell_type": "code",
      "source": [
        ""
      ],
      "metadata": {
        "id": "VgN-TMcoJQyo"
      },
      "execution_count": 20,
      "outputs": []
    },
    {
      "cell_type": "markdown",
      "source": [
        "# Задание 6."
      ],
      "metadata": {
        "id": "PHNkba7OxNwa"
      }
    },
    {
      "cell_type": "code",
      "source": [
        "list(pos['ttext'])[:5]"
      ],
      "metadata": {
        "colab": {
          "base_uri": "https://localhost:8080/"
        },
        "id": "Qi4S3cfoO3G0",
        "outputId": "53168982-816f-4c39-9ba5-1eb17e78609b"
      },
      "execution_count": 21,
      "outputs": [
        {
          "output_type": "execute_result",
          "data": {
            "text/plain": [
              "['@first_timee хоть я и школота, но поверь, у нас то же самое :D общество профилирующий предмет типа)',\n",
              " 'Да, все-таки он немного похож на него. Но мой мальчик все равно лучше:D',\n",
              " 'RT @KatiaCheh: Ну ты идиотка) я испугалась за тебя!!!',\n",
              " 'RT @digger2912: \"Кто то в углу сидит и погибает от голода, а мы ещё 2 порции взяли, хотя уже и так жрать не хотим\" :DD http://t.co/GqG6iuE2…',\n",
              " '@irina_dyshkant Вот что значит страшилка :D\\nНо блин,посмотрев все части,у тебя создастся ощущение,что авторы курили что-то :D']"
            ]
          },
          "metadata": {},
          "execution_count": 21
        }
      ]
    },
    {
      "cell_type": "code",
      "source": [
        "pos['ttext'][:5]"
      ],
      "metadata": {
        "colab": {
          "base_uri": "https://localhost:8080/"
        },
        "id": "TqI6QjRRO3Jc",
        "outputId": "ecc16a1f-b3e6-4362-9113-cff1c40dda5f"
      },
      "execution_count": 22,
      "outputs": [
        {
          "output_type": "execute_result",
          "data": {
            "text/plain": [
              "0    @first_timee хоть я и школота, но поверь, у на...\n",
              "1    Да, все-таки он немного похож на него. Но мой ...\n",
              "2    RT @KatiaCheh: Ну ты идиотка) я испугалась за ...\n",
              "3    RT @digger2912: \"Кто то в углу сидит и погибае...\n",
              "4    @irina_dyshkant Вот что значит страшилка :D\\nН...\n",
              "Name: ttext, dtype: object"
            ]
          },
          "metadata": {},
          "execution_count": 22
        }
      ]
    },
    {
      "cell_type": "code",
      "source": [
        "sent = ' '.join(list(pos['ttext']))\n",
        "fdist = nltk.FreqDist(word.lower() for word in word_tokenize(sent))\n",
        "fdist.most_common(10)"
      ],
      "metadata": {
        "colab": {
          "base_uri": "https://localhost:8080/"
        },
        "id": "jLwr3ollNWd9",
        "outputId": "b2f32bbc-f28f-45aa-9b80-a03f838d5c4c"
      },
      "execution_count": 23,
      "outputs": [
        {
          "output_type": "execute_result",
          "data": {
            "text/plain": [
              "[(')', 194005),\n",
              " (':', 103303),\n",
              " (',', 97459),\n",
              " ('@', 88904),\n",
              " ('!', 36605),\n",
              " ('и', 31968),\n",
              " ('я', 30249),\n",
              " ('не', 29449),\n",
              " ('в', 29172),\n",
              " ('.', 28824)]"
            ]
          },
          "metadata": {},
          "execution_count": 23
        }
      ]
    },
    {
      "cell_type": "code",
      "source": [
        "sentNeg = ' '.join(list(neg['ttext']))\n",
        "fdistNeg = nltk.FreqDist(word.lower() for word in word_tokenize(sentNeg))\n",
        "fdistNeg.most_common(10)"
      ],
      "metadata": {
        "colab": {
          "base_uri": "https://localhost:8080/"
        },
        "id": "F_QxBURTPFL1",
        "outputId": "cf1eff01-0ac9-49cc-96bf-3188608b5651"
      },
      "execution_count": 24,
      "outputs": [
        {
          "output_type": "execute_result",
          "data": {
            "text/plain": [
              "[('(', 212404),\n",
              " (',', 90836),\n",
              " (':', 74363),\n",
              " ('@', 61074),\n",
              " ('не', 44976),\n",
              " ('я', 34508),\n",
              " ('.', 30892),\n",
              " ('!', 30318),\n",
              " ('и', 28223),\n",
              " ('в', 27722)]"
            ]
          },
          "metadata": {},
          "execution_count": 24
        }
      ]
    },
    {
      "cell_type": "markdown",
      "source": [
        "# Задание 7."
      ],
      "metadata": {
        "id": "O_DUJO8DO9Cj"
      }
    },
    {
      "cell_type": "code",
      "source": [
        "import nltk\n",
        "nltk.download('stopwords')\n",
        "from nltk.corpus import stopwords\n",
        "print(stopwords.words('russian'))"
      ],
      "metadata": {
        "colab": {
          "base_uri": "https://localhost:8080/"
        },
        "id": "KWYpOji7PCys",
        "outputId": "29402550-10dc-491b-bdc7-9ed599389757"
      },
      "execution_count": 25,
      "outputs": [
        {
          "output_type": "stream",
          "name": "stdout",
          "text": [
            "[nltk_data] Downloading package stopwords to /root/nltk_data...\n",
            "[nltk_data]   Unzipping corpora/stopwords.zip.\n",
            "['и', 'в', 'во', 'не', 'что', 'он', 'на', 'я', 'с', 'со', 'как', 'а', 'то', 'все', 'она', 'так', 'его', 'но', 'да', 'ты', 'к', 'у', 'же', 'вы', 'за', 'бы', 'по', 'только', 'ее', 'мне', 'было', 'вот', 'от', 'меня', 'еще', 'нет', 'о', 'из', 'ему', 'теперь', 'когда', 'даже', 'ну', 'вдруг', 'ли', 'если', 'уже', 'или', 'ни', 'быть', 'был', 'него', 'до', 'вас', 'нибудь', 'опять', 'уж', 'вам', 'ведь', 'там', 'потом', 'себя', 'ничего', 'ей', 'может', 'они', 'тут', 'где', 'есть', 'надо', 'ней', 'для', 'мы', 'тебя', 'их', 'чем', 'была', 'сам', 'чтоб', 'без', 'будто', 'чего', 'раз', 'тоже', 'себе', 'под', 'будет', 'ж', 'тогда', 'кто', 'этот', 'того', 'потому', 'этого', 'какой', 'совсем', 'ним', 'здесь', 'этом', 'один', 'почти', 'мой', 'тем', 'чтобы', 'нее', 'сейчас', 'были', 'куда', 'зачем', 'всех', 'никогда', 'можно', 'при', 'наконец', 'два', 'об', 'другой', 'хоть', 'после', 'над', 'больше', 'тот', 'через', 'эти', 'нас', 'про', 'всего', 'них', 'какая', 'много', 'разве', 'три', 'эту', 'моя', 'впрочем', 'хорошо', 'свою', 'этой', 'перед', 'иногда', 'лучше', 'чуть', 'том', 'нельзя', 'такой', 'им', 'более', 'всегда', 'конечно', 'всю', 'между']\n"
          ]
        }
      ]
    },
    {
      "cell_type": "code",
      "source": [
        ""
      ],
      "metadata": {
        "id": "Iok2t1EoPC0_"
      },
      "execution_count": 25,
      "outputs": []
    },
    {
      "cell_type": "code",
      "source": [
        ""
      ],
      "metadata": {
        "id": "rWEPDIm0PC3U"
      },
      "execution_count": 25,
      "outputs": []
    },
    {
      "cell_type": "markdown",
      "source": [
        "# Задание 8."
      ],
      "metadata": {
        "id": "mogn72rIO9t9"
      }
    },
    {
      "cell_type": "code",
      "source": [
        ""
      ],
      "metadata": {
        "id": "FPIRVKLTw4Jx"
      },
      "execution_count": 25,
      "outputs": []
    },
    {
      "cell_type": "code",
      "source": [
        ""
      ],
      "metadata": {
        "id": "FpRMhkscNiDy"
      },
      "execution_count": null,
      "outputs": []
    },
    {
      "cell_type": "code",
      "source": [
        ""
      ],
      "metadata": {
        "id": "X7lDJRT2JzXO"
      },
      "execution_count": null,
      "outputs": []
    }
  ]
}