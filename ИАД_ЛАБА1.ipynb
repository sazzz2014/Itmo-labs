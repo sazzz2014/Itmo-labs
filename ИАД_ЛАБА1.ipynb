{
  "nbformat": 4,
  "nbformat_minor": 0,
  "metadata": {
    "colab": {
      "name": "ИАД_ЛАБА1.ipynb",
      "provenance": [],
      "mount_file_id": "1UlC8azz3LSBIARzyF6mVmn54tPNCSPp-",
      "authorship_tag": "ABX9TyNSC+haf9TFP/cq0rXXiOuo",
      "include_colab_link": true
    },
    "kernelspec": {
      "name": "python3",
      "display_name": "Python 3"
    },
    "language_info": {
      "name": "python"
    }
  },
  "cells": [
    {
      "cell_type": "markdown",
      "metadata": {
        "id": "view-in-github",
        "colab_type": "text"
      },
      "source": [
        "<a href=\"https://colab.research.google.com/github/sazzz2014/Magistracy/blob/main/%D0%98%D0%90%D0%94_%D0%9B%D0%90%D0%91%D0%901.ipynb\" target=\"_parent\"><img src=\"https://colab.research.google.com/assets/colab-badge.svg\" alt=\"Open In Colab\"/></a>"
      ]
    },
    {
      "cell_type": "code",
      "execution_count": 53,
      "metadata": {
        "id": "9C3FGNfVsgwQ"
      },
      "outputs": [],
      "source": [
        "import pandas as pd"
      ]
    },
    {
      "cell_type": "code",
      "source": [
        "pos = pd.read_csv('drive/MyDrive/Colab/positive.csv', delimiter=\";\", header=None) \n",
        "neg = pd.read_csv('drive/MyDrive/Colab/negative.csv', delimiter=\";\", header=None) \n",
        "pos.columns=[\"id\", \"tdate\", \"tmane\", \"ttext\", \"ttype\", \"trep\", \"trtv\", \"tfav\", \"tstcount\", \"tfol\", \"tfrien\", \"listcount\"]\n",
        "neg.columns=[\"id\", \"tdate\", \"tmane\", \"ttext\", \"ttype\", \"trep\", \"trtv\", \"tfav\", \"tstcount\", \"tfol\", \"tfrien\", \"listcount\"]\n",
        "pos.shape, neg.shape"
      ],
      "metadata": {
        "colab": {
          "base_uri": "https://localhost:8080/"
        },
        "id": "15-2t3y-tYD5",
        "outputId": "ccfbf676-61ae-4841-af3f-ec2a58fcb86e"
      },
      "execution_count": 54,
      "outputs": [
        {
          "output_type": "execute_result",
          "data": {
            "text/plain": [
              "((114911, 12), (111923, 12))"
            ]
          },
          "metadata": {},
          "execution_count": 54
        }
      ]
    },
    {
      "cell_type": "code",
      "source": [
        "pos.head()"
      ],
      "metadata": {
        "colab": {
          "base_uri": "https://localhost:8080/",
          "height": 206
        },
        "id": "lAb0IxkTOcVA",
        "outputId": "27baf2c1-5f86-413b-8d8a-1e4a9afefc8b"
      },
      "execution_count": 55,
      "outputs": [
        {
          "output_type": "execute_result",
          "data": {
            "text/plain": [
              "                   id       tdate            tmane  \\\n",
              "0  408906692374446080  1386325927  pleease_shut_up   \n",
              "1  408906692693221377  1386325927  alinakirpicheva   \n",
              "2  408906695083954177  1386325927        EvgeshaRe   \n",
              "3  408906695356973056  1386325927    ikonnikova_21   \n",
              "4  408906761416867842  1386325943        JumpyAlex   \n",
              "\n",
              "                                               ttext  ttype  trep  trtv  tfav  \\\n",
              "0  @first_timee хоть я и школота, но поверь, у на...      1     0     0     0   \n",
              "1  Да, все-таки он немного похож на него. Но мой ...      1     0     0     0   \n",
              "2  RT @KatiaCheh: Ну ты идиотка) я испугалась за ...      1     0     1     0   \n",
              "3  RT @digger2912: \"Кто то в углу сидит и погибае...      1     0     1     0   \n",
              "4  @irina_dyshkant Вот что значит страшилка :D\\nН...      1     0     0     0   \n",
              "\n",
              "   tstcount  tfol  tfrien  listcount  \n",
              "0      7569    62      61          0  \n",
              "1     11825    59      31          2  \n",
              "2      1273    26      27          0  \n",
              "3      1549    19      17          0  \n",
              "4       597    16      23          1  "
            ],
            "text/html": [
              "\n",
              "  <div id=\"df-38ee8255-7afc-4af7-b7b1-0c852a4d54ad\">\n",
              "    <div class=\"colab-df-container\">\n",
              "      <div>\n",
              "<style scoped>\n",
              "    .dataframe tbody tr th:only-of-type {\n",
              "        vertical-align: middle;\n",
              "    }\n",
              "\n",
              "    .dataframe tbody tr th {\n",
              "        vertical-align: top;\n",
              "    }\n",
              "\n",
              "    .dataframe thead th {\n",
              "        text-align: right;\n",
              "    }\n",
              "</style>\n",
              "<table border=\"1\" class=\"dataframe\">\n",
              "  <thead>\n",
              "    <tr style=\"text-align: right;\">\n",
              "      <th></th>\n",
              "      <th>id</th>\n",
              "      <th>tdate</th>\n",
              "      <th>tmane</th>\n",
              "      <th>ttext</th>\n",
              "      <th>ttype</th>\n",
              "      <th>trep</th>\n",
              "      <th>trtv</th>\n",
              "      <th>tfav</th>\n",
              "      <th>tstcount</th>\n",
              "      <th>tfol</th>\n",
              "      <th>tfrien</th>\n",
              "      <th>listcount</th>\n",
              "    </tr>\n",
              "  </thead>\n",
              "  <tbody>\n",
              "    <tr>\n",
              "      <th>0</th>\n",
              "      <td>408906692374446080</td>\n",
              "      <td>1386325927</td>\n",
              "      <td>pleease_shut_up</td>\n",
              "      <td>@first_timee хоть я и школота, но поверь, у на...</td>\n",
              "      <td>1</td>\n",
              "      <td>0</td>\n",
              "      <td>0</td>\n",
              "      <td>0</td>\n",
              "      <td>7569</td>\n",
              "      <td>62</td>\n",
              "      <td>61</td>\n",
              "      <td>0</td>\n",
              "    </tr>\n",
              "    <tr>\n",
              "      <th>1</th>\n",
              "      <td>408906692693221377</td>\n",
              "      <td>1386325927</td>\n",
              "      <td>alinakirpicheva</td>\n",
              "      <td>Да, все-таки он немного похож на него. Но мой ...</td>\n",
              "      <td>1</td>\n",
              "      <td>0</td>\n",
              "      <td>0</td>\n",
              "      <td>0</td>\n",
              "      <td>11825</td>\n",
              "      <td>59</td>\n",
              "      <td>31</td>\n",
              "      <td>2</td>\n",
              "    </tr>\n",
              "    <tr>\n",
              "      <th>2</th>\n",
              "      <td>408906695083954177</td>\n",
              "      <td>1386325927</td>\n",
              "      <td>EvgeshaRe</td>\n",
              "      <td>RT @KatiaCheh: Ну ты идиотка) я испугалась за ...</td>\n",
              "      <td>1</td>\n",
              "      <td>0</td>\n",
              "      <td>1</td>\n",
              "      <td>0</td>\n",
              "      <td>1273</td>\n",
              "      <td>26</td>\n",
              "      <td>27</td>\n",
              "      <td>0</td>\n",
              "    </tr>\n",
              "    <tr>\n",
              "      <th>3</th>\n",
              "      <td>408906695356973056</td>\n",
              "      <td>1386325927</td>\n",
              "      <td>ikonnikova_21</td>\n",
              "      <td>RT @digger2912: \"Кто то в углу сидит и погибае...</td>\n",
              "      <td>1</td>\n",
              "      <td>0</td>\n",
              "      <td>1</td>\n",
              "      <td>0</td>\n",
              "      <td>1549</td>\n",
              "      <td>19</td>\n",
              "      <td>17</td>\n",
              "      <td>0</td>\n",
              "    </tr>\n",
              "    <tr>\n",
              "      <th>4</th>\n",
              "      <td>408906761416867842</td>\n",
              "      <td>1386325943</td>\n",
              "      <td>JumpyAlex</td>\n",
              "      <td>@irina_dyshkant Вот что значит страшилка :D\\nН...</td>\n",
              "      <td>1</td>\n",
              "      <td>0</td>\n",
              "      <td>0</td>\n",
              "      <td>0</td>\n",
              "      <td>597</td>\n",
              "      <td>16</td>\n",
              "      <td>23</td>\n",
              "      <td>1</td>\n",
              "    </tr>\n",
              "  </tbody>\n",
              "</table>\n",
              "</div>\n",
              "      <button class=\"colab-df-convert\" onclick=\"convertToInteractive('df-38ee8255-7afc-4af7-b7b1-0c852a4d54ad')\"\n",
              "              title=\"Convert this dataframe to an interactive table.\"\n",
              "              style=\"display:none;\">\n",
              "        \n",
              "  <svg xmlns=\"http://www.w3.org/2000/svg\" height=\"24px\"viewBox=\"0 0 24 24\"\n",
              "       width=\"24px\">\n",
              "    <path d=\"M0 0h24v24H0V0z\" fill=\"none\"/>\n",
              "    <path d=\"M18.56 5.44l.94 2.06.94-2.06 2.06-.94-2.06-.94-.94-2.06-.94 2.06-2.06.94zm-11 1L8.5 8.5l.94-2.06 2.06-.94-2.06-.94L8.5 2.5l-.94 2.06-2.06.94zm10 10l.94 2.06.94-2.06 2.06-.94-2.06-.94-.94-2.06-.94 2.06-2.06.94z\"/><path d=\"M17.41 7.96l-1.37-1.37c-.4-.4-.92-.59-1.43-.59-.52 0-1.04.2-1.43.59L10.3 9.45l-7.72 7.72c-.78.78-.78 2.05 0 2.83L4 21.41c.39.39.9.59 1.41.59.51 0 1.02-.2 1.41-.59l7.78-7.78 2.81-2.81c.8-.78.8-2.07 0-2.86zM5.41 20L4 18.59l7.72-7.72 1.47 1.35L5.41 20z\"/>\n",
              "  </svg>\n",
              "      </button>\n",
              "      \n",
              "  <style>\n",
              "    .colab-df-container {\n",
              "      display:flex;\n",
              "      flex-wrap:wrap;\n",
              "      gap: 12px;\n",
              "    }\n",
              "\n",
              "    .colab-df-convert {\n",
              "      background-color: #E8F0FE;\n",
              "      border: none;\n",
              "      border-radius: 50%;\n",
              "      cursor: pointer;\n",
              "      display: none;\n",
              "      fill: #1967D2;\n",
              "      height: 32px;\n",
              "      padding: 0 0 0 0;\n",
              "      width: 32px;\n",
              "    }\n",
              "\n",
              "    .colab-df-convert:hover {\n",
              "      background-color: #E2EBFA;\n",
              "      box-shadow: 0px 1px 2px rgba(60, 64, 67, 0.3), 0px 1px 3px 1px rgba(60, 64, 67, 0.15);\n",
              "      fill: #174EA6;\n",
              "    }\n",
              "\n",
              "    [theme=dark] .colab-df-convert {\n",
              "      background-color: #3B4455;\n",
              "      fill: #D2E3FC;\n",
              "    }\n",
              "\n",
              "    [theme=dark] .colab-df-convert:hover {\n",
              "      background-color: #434B5C;\n",
              "      box-shadow: 0px 1px 3px 1px rgba(0, 0, 0, 0.15);\n",
              "      filter: drop-shadow(0px 1px 2px rgba(0, 0, 0, 0.3));\n",
              "      fill: #FFFFFF;\n",
              "    }\n",
              "  </style>\n",
              "\n",
              "      <script>\n",
              "        const buttonEl =\n",
              "          document.querySelector('#df-38ee8255-7afc-4af7-b7b1-0c852a4d54ad button.colab-df-convert');\n",
              "        buttonEl.style.display =\n",
              "          google.colab.kernel.accessAllowed ? 'block' : 'none';\n",
              "\n",
              "        async function convertToInteractive(key) {\n",
              "          const element = document.querySelector('#df-38ee8255-7afc-4af7-b7b1-0c852a4d54ad');\n",
              "          const dataTable =\n",
              "            await google.colab.kernel.invokeFunction('convertToInteractive',\n",
              "                                                     [key], {});\n",
              "          if (!dataTable) return;\n",
              "\n",
              "          const docLinkHtml = 'Like what you see? Visit the ' +\n",
              "            '<a target=\"_blank\" href=https://colab.research.google.com/notebooks/data_table.ipynb>data table notebook</a>'\n",
              "            + ' to learn more about interactive tables.';\n",
              "          element.innerHTML = '';\n",
              "          dataTable['output_type'] = 'display_data';\n",
              "          await google.colab.output.renderOutput(dataTable, element);\n",
              "          const docLink = document.createElement('div');\n",
              "          docLink.innerHTML = docLinkHtml;\n",
              "          element.appendChild(docLink);\n",
              "        }\n",
              "      </script>\n",
              "    </div>\n",
              "  </div>\n",
              "  "
            ]
          },
          "metadata": {},
          "execution_count": 55
        }
      ]
    },
    {
      "cell_type": "code",
      "source": [
        "neg.head()"
      ],
      "metadata": {
        "colab": {
          "base_uri": "https://localhost:8080/",
          "height": 206
        },
        "id": "aH83mUFdtYI5",
        "outputId": "4456a1ec-0176-4966-89a8-5458f3b6fbeb"
      },
      "execution_count": 56,
      "outputs": [
        {
          "output_type": "execute_result",
          "data": {
            "text/plain": [
              "                   id       tdate            tmane  \\\n",
              "0  408906762813579264  1386325944  dugarchikbellko   \n",
              "1  408906818262687744  1386325957     nugemycejela   \n",
              "2  408906858515398656  1386325966          4post21   \n",
              "3  408906914437685248  1386325980         Poliwake   \n",
              "4  408906914723295232  1386325980       capyvixowe   \n",
              "\n",
              "                                               ttext  ttype  trep  trtv  tfav  \\\n",
              "0  на работе был полный пиддес :| и так каждое за...     -1     0     0     0   \n",
              "1  Коллеги сидят рубятся в Urban terror, а я из-з...     -1     0     0     0   \n",
              "2  @elina_4post как говорят обещаного три года жд...     -1     0     0     0   \n",
              "3  Желаю хорошего полёта и удачной посадки,я буду...     -1     0     0     0   \n",
              "4  Обновил за каким-то лешим surf, теперь не рабо...     -1     0     0     0   \n",
              "\n",
              "   tstcount  tfol  tfrien  listcount  \n",
              "0      8064   111      94          2  \n",
              "1        26    42      39          0  \n",
              "2       718    49     249          0  \n",
              "3     10628   207     200          0  \n",
              "4        35    17      34          0  "
            ],
            "text/html": [
              "\n",
              "  <div id=\"df-1a58af5e-cc62-4ada-bdae-5657b8b4cc9f\">\n",
              "    <div class=\"colab-df-container\">\n",
              "      <div>\n",
              "<style scoped>\n",
              "    .dataframe tbody tr th:only-of-type {\n",
              "        vertical-align: middle;\n",
              "    }\n",
              "\n",
              "    .dataframe tbody tr th {\n",
              "        vertical-align: top;\n",
              "    }\n",
              "\n",
              "    .dataframe thead th {\n",
              "        text-align: right;\n",
              "    }\n",
              "</style>\n",
              "<table border=\"1\" class=\"dataframe\">\n",
              "  <thead>\n",
              "    <tr style=\"text-align: right;\">\n",
              "      <th></th>\n",
              "      <th>id</th>\n",
              "      <th>tdate</th>\n",
              "      <th>tmane</th>\n",
              "      <th>ttext</th>\n",
              "      <th>ttype</th>\n",
              "      <th>trep</th>\n",
              "      <th>trtv</th>\n",
              "      <th>tfav</th>\n",
              "      <th>tstcount</th>\n",
              "      <th>tfol</th>\n",
              "      <th>tfrien</th>\n",
              "      <th>listcount</th>\n",
              "    </tr>\n",
              "  </thead>\n",
              "  <tbody>\n",
              "    <tr>\n",
              "      <th>0</th>\n",
              "      <td>408906762813579264</td>\n",
              "      <td>1386325944</td>\n",
              "      <td>dugarchikbellko</td>\n",
              "      <td>на работе был полный пиддес :| и так каждое за...</td>\n",
              "      <td>-1</td>\n",
              "      <td>0</td>\n",
              "      <td>0</td>\n",
              "      <td>0</td>\n",
              "      <td>8064</td>\n",
              "      <td>111</td>\n",
              "      <td>94</td>\n",
              "      <td>2</td>\n",
              "    </tr>\n",
              "    <tr>\n",
              "      <th>1</th>\n",
              "      <td>408906818262687744</td>\n",
              "      <td>1386325957</td>\n",
              "      <td>nugemycejela</td>\n",
              "      <td>Коллеги сидят рубятся в Urban terror, а я из-з...</td>\n",
              "      <td>-1</td>\n",
              "      <td>0</td>\n",
              "      <td>0</td>\n",
              "      <td>0</td>\n",
              "      <td>26</td>\n",
              "      <td>42</td>\n",
              "      <td>39</td>\n",
              "      <td>0</td>\n",
              "    </tr>\n",
              "    <tr>\n",
              "      <th>2</th>\n",
              "      <td>408906858515398656</td>\n",
              "      <td>1386325966</td>\n",
              "      <td>4post21</td>\n",
              "      <td>@elina_4post как говорят обещаного три года жд...</td>\n",
              "      <td>-1</td>\n",
              "      <td>0</td>\n",
              "      <td>0</td>\n",
              "      <td>0</td>\n",
              "      <td>718</td>\n",
              "      <td>49</td>\n",
              "      <td>249</td>\n",
              "      <td>0</td>\n",
              "    </tr>\n",
              "    <tr>\n",
              "      <th>3</th>\n",
              "      <td>408906914437685248</td>\n",
              "      <td>1386325980</td>\n",
              "      <td>Poliwake</td>\n",
              "      <td>Желаю хорошего полёта и удачной посадки,я буду...</td>\n",
              "      <td>-1</td>\n",
              "      <td>0</td>\n",
              "      <td>0</td>\n",
              "      <td>0</td>\n",
              "      <td>10628</td>\n",
              "      <td>207</td>\n",
              "      <td>200</td>\n",
              "      <td>0</td>\n",
              "    </tr>\n",
              "    <tr>\n",
              "      <th>4</th>\n",
              "      <td>408906914723295232</td>\n",
              "      <td>1386325980</td>\n",
              "      <td>capyvixowe</td>\n",
              "      <td>Обновил за каким-то лешим surf, теперь не рабо...</td>\n",
              "      <td>-1</td>\n",
              "      <td>0</td>\n",
              "      <td>0</td>\n",
              "      <td>0</td>\n",
              "      <td>35</td>\n",
              "      <td>17</td>\n",
              "      <td>34</td>\n",
              "      <td>0</td>\n",
              "    </tr>\n",
              "  </tbody>\n",
              "</table>\n",
              "</div>\n",
              "      <button class=\"colab-df-convert\" onclick=\"convertToInteractive('df-1a58af5e-cc62-4ada-bdae-5657b8b4cc9f')\"\n",
              "              title=\"Convert this dataframe to an interactive table.\"\n",
              "              style=\"display:none;\">\n",
              "        \n",
              "  <svg xmlns=\"http://www.w3.org/2000/svg\" height=\"24px\"viewBox=\"0 0 24 24\"\n",
              "       width=\"24px\">\n",
              "    <path d=\"M0 0h24v24H0V0z\" fill=\"none\"/>\n",
              "    <path d=\"M18.56 5.44l.94 2.06.94-2.06 2.06-.94-2.06-.94-.94-2.06-.94 2.06-2.06.94zm-11 1L8.5 8.5l.94-2.06 2.06-.94-2.06-.94L8.5 2.5l-.94 2.06-2.06.94zm10 10l.94 2.06.94-2.06 2.06-.94-2.06-.94-.94-2.06-.94 2.06-2.06.94z\"/><path d=\"M17.41 7.96l-1.37-1.37c-.4-.4-.92-.59-1.43-.59-.52 0-1.04.2-1.43.59L10.3 9.45l-7.72 7.72c-.78.78-.78 2.05 0 2.83L4 21.41c.39.39.9.59 1.41.59.51 0 1.02-.2 1.41-.59l7.78-7.78 2.81-2.81c.8-.78.8-2.07 0-2.86zM5.41 20L4 18.59l7.72-7.72 1.47 1.35L5.41 20z\"/>\n",
              "  </svg>\n",
              "      </button>\n",
              "      \n",
              "  <style>\n",
              "    .colab-df-container {\n",
              "      display:flex;\n",
              "      flex-wrap:wrap;\n",
              "      gap: 12px;\n",
              "    }\n",
              "\n",
              "    .colab-df-convert {\n",
              "      background-color: #E8F0FE;\n",
              "      border: none;\n",
              "      border-radius: 50%;\n",
              "      cursor: pointer;\n",
              "      display: none;\n",
              "      fill: #1967D2;\n",
              "      height: 32px;\n",
              "      padding: 0 0 0 0;\n",
              "      width: 32px;\n",
              "    }\n",
              "\n",
              "    .colab-df-convert:hover {\n",
              "      background-color: #E2EBFA;\n",
              "      box-shadow: 0px 1px 2px rgba(60, 64, 67, 0.3), 0px 1px 3px 1px rgba(60, 64, 67, 0.15);\n",
              "      fill: #174EA6;\n",
              "    }\n",
              "\n",
              "    [theme=dark] .colab-df-convert {\n",
              "      background-color: #3B4455;\n",
              "      fill: #D2E3FC;\n",
              "    }\n",
              "\n",
              "    [theme=dark] .colab-df-convert:hover {\n",
              "      background-color: #434B5C;\n",
              "      box-shadow: 0px 1px 3px 1px rgba(0, 0, 0, 0.15);\n",
              "      filter: drop-shadow(0px 1px 2px rgba(0, 0, 0, 0.3));\n",
              "      fill: #FFFFFF;\n",
              "    }\n",
              "  </style>\n",
              "\n",
              "      <script>\n",
              "        const buttonEl =\n",
              "          document.querySelector('#df-1a58af5e-cc62-4ada-bdae-5657b8b4cc9f button.colab-df-convert');\n",
              "        buttonEl.style.display =\n",
              "          google.colab.kernel.accessAllowed ? 'block' : 'none';\n",
              "\n",
              "        async function convertToInteractive(key) {\n",
              "          const element = document.querySelector('#df-1a58af5e-cc62-4ada-bdae-5657b8b4cc9f');\n",
              "          const dataTable =\n",
              "            await google.colab.kernel.invokeFunction('convertToInteractive',\n",
              "                                                     [key], {});\n",
              "          if (!dataTable) return;\n",
              "\n",
              "          const docLinkHtml = 'Like what you see? Visit the ' +\n",
              "            '<a target=\"_blank\" href=https://colab.research.google.com/notebooks/data_table.ipynb>data table notebook</a>'\n",
              "            + ' to learn more about interactive tables.';\n",
              "          element.innerHTML = '';\n",
              "          dataTable['output_type'] = 'display_data';\n",
              "          await google.colab.output.renderOutput(dataTable, element);\n",
              "          const docLink = document.createElement('div');\n",
              "          docLink.innerHTML = docLinkHtml;\n",
              "          element.appendChild(docLink);\n",
              "        }\n",
              "      </script>\n",
              "    </div>\n",
              "  </div>\n",
              "  "
            ]
          },
          "metadata": {},
          "execution_count": 56
        }
      ]
    },
    {
      "cell_type": "markdown",
      "source": [
        "# Задание 2. ДОДЕЛАТЬ!\n",
        "\n"
      ],
      "metadata": {
        "id": "7rC8C6SZw1S7"
      }
    },
    {
      "cell_type": "code",
      "source": [
        "pos[\"trtv\"].mean(), neg[\"trtv\"].mean()"
      ],
      "metadata": {
        "colab": {
          "base_uri": "https://localhost:8080/"
        },
        "id": "_vXCMgoWtYPc",
        "outputId": "04998830-0363-4f84-afba-625ee2204831"
      },
      "execution_count": 57,
      "outputs": [
        {
          "output_type": "execute_result",
          "data": {
            "text/plain": [
              "(4.166494069323216, 2.0420199601511753)"
            ]
          },
          "metadata": {},
          "execution_count": 57
        }
      ]
    },
    {
      "cell_type": "markdown",
      "source": [
        "# Со звездочкой\n",
        "\n"
      ],
      "metadata": {
        "id": "IYD0SK7qJYCm"
      }
    },
    {
      "cell_type": "markdown",
      "source": [
        "# Задание 3."
      ],
      "metadata": {
        "id": "ADZsRePIxNiU"
      }
    },
    {
      "cell_type": "code",
      "source": [
        "import re\n",
        "tokenizeString = []\n",
        "countTokenize = []\n",
        "for i in pos['ttext']:\n",
        "  tokenizeString.append(re.findall(r'\\w+', i))\n",
        "  countTokenize.append(len(re.findall(r'\\w+', i)))\n"
      ],
      "metadata": {
        "id": "Rvuy4JsLxbuE"
      },
      "execution_count": 58,
      "outputs": []
    },
    {
      "cell_type": "code",
      "source": [
        "print(countTokenize[0], tokenizeString[0])\n",
        "print(countTokenize[1], tokenizeString[1])"
      ],
      "metadata": {
        "colab": {
          "base_uri": "https://localhost:8080/"
        },
        "id": "gF-ziFgw8Roa",
        "outputId": "0bed941c-c235-42ed-9e68-03bc2ef5a77f"
      },
      "execution_count": 59,
      "outputs": [
        {
          "output_type": "stream",
          "name": "stdout",
          "text": [
            "17 ['first_timee', 'хоть', 'я', 'и', 'школота', 'но', 'поверь', 'у', 'нас', 'то', 'же', 'самое', 'D', 'общество', 'профилирующий', 'предмет', 'типа']\n",
            "15 ['Да', 'все', 'таки', 'он', 'немного', 'похож', 'на', 'него', 'Но', 'мой', 'мальчик', 'все', 'равно', 'лучше', 'D']\n"
          ]
        }
      ]
    },
    {
      "cell_type": "markdown",
      "source": [
        "# Задание 4."
      ],
      "metadata": {
        "id": "tuLlki9axNqx"
      }
    },
    {
      "cell_type": "code",
      "source": [
        "import nltk\n",
        "nltk.download('punkt')"
      ],
      "metadata": {
        "colab": {
          "base_uri": "https://localhost:8080/"
        },
        "id": "vyQZQ3iu4wzu",
        "outputId": "5cfa7a7b-1dcb-4dd7-8842-0bee141f6074"
      },
      "execution_count": 60,
      "outputs": [
        {
          "output_type": "stream",
          "name": "stdout",
          "text": [
            "[nltk_data] Downloading package punkt to /root/nltk_data...\n",
            "[nltk_data]   Package punkt is already up-to-date!\n"
          ]
        },
        {
          "output_type": "execute_result",
          "data": {
            "text/plain": [
              "True"
            ]
          },
          "metadata": {},
          "execution_count": 60
        }
      ]
    },
    {
      "cell_type": "code",
      "source": [
        "from nltk.tokenize import word_tokenize\n",
        "import string\n",
        "punctuations = list(string.punctuation)\n",
        "print(punctuations)"
      ],
      "metadata": {
        "colab": {
          "base_uri": "https://localhost:8080/"
        },
        "id": "kInpELqW82Il",
        "outputId": "ddaaa630-b4f6-4435-a54a-aebeb2b73782"
      },
      "execution_count": 61,
      "outputs": [
        {
          "output_type": "stream",
          "name": "stdout",
          "text": [
            "['!', '\"', '#', '$', '%', '&', \"'\", '(', ')', '*', '+', ',', '-', '.', '/', ':', ';', '<', '=', '>', '?', '@', '[', '\\\\', ']', '^', '_', '`', '{', '|', '}', '~']\n"
          ]
        }
      ]
    },
    {
      "cell_type": "code",
      "source": [
        "sent = []\n",
        "for j in pos['ttext']:\n",
        "  q = [i.lower() for i in word_tokenize(j) if i not in punctuations]\n",
        "  sent.append(q)"
      ],
      "metadata": {
        "id": "BFwpKlb-4w2N"
      },
      "execution_count": 62,
      "outputs": []
    },
    {
      "cell_type": "code",
      "source": [
        "print(sent[0])\n",
        "print(sent[1])\n",
        "print(sent[2])\n",
        "print(sent[3])\n",
        "print(sent[4])"
      ],
      "metadata": {
        "colab": {
          "base_uri": "https://localhost:8080/"
        },
        "id": "KvFPCykM4xFJ",
        "outputId": "21ce61e7-8eb2-4742-b646-e3ad0d1871bd"
      },
      "execution_count": 63,
      "outputs": [
        {
          "output_type": "stream",
          "name": "stdout",
          "text": [
            "['first_timee', 'хоть', 'я', 'и', 'школота', 'но', 'поверь', 'у', 'нас', 'то', 'же', 'самое', 'd', 'общество', 'профилирующий', 'предмет', 'типа']\n",
            "['да', 'все-таки', 'он', 'немного', 'похож', 'на', 'него', 'но', 'мой', 'мальчик', 'все', 'равно', 'лучше', 'd']\n",
            "['rt', 'katiacheh', 'ну', 'ты', 'идиотка', 'я', 'испугалась', 'за', 'тебя']\n",
            "['rt', 'digger2912', '``', 'кто', 'то', 'в', 'углу', 'сидит', 'и', 'погибает', 'от', 'голода', 'а', 'мы', 'ещё', '2', 'порции', 'взяли', 'хотя', 'уже', 'и', 'так', 'жрать', 'не', 'хотим', \"''\", 'dd', 'http', '//t.co/gqg6iue2…']\n",
            "['irina_dyshkant', 'вот', 'что', 'значит', 'страшилка', 'd', 'но', 'блин', 'посмотрев', 'все', 'части', 'у', 'тебя', 'создастся', 'ощущение', 'что', 'авторы', 'курили', 'что-то', 'd']\n"
          ]
        }
      ]
    },
    {
      "cell_type": "code",
      "source": [
        "pos['ttext'][1]"
      ],
      "metadata": {
        "colab": {
          "base_uri": "https://localhost:8080/",
          "height": 35
        },
        "id": "DDi64871Renz",
        "outputId": "6ed47a38-07be-42b7-a706-5f7114ddb418"
      },
      "execution_count": 64,
      "outputs": [
        {
          "output_type": "execute_result",
          "data": {
            "text/plain": [
              "'Да, все-таки он немного похож на него. Но мой мальчик все равно лучше:D'"
            ],
            "application/vnd.google.colaboratory.intrinsic+json": {
              "type": "string"
            }
          },
          "metadata": {},
          "execution_count": 64
        }
      ]
    },
    {
      "cell_type": "markdown",
      "source": [
        "# Задание 5."
      ],
      "metadata": {
        "id": "jmtnParZxNtm"
      }
    },
    {
      "cell_type": "code",
      "source": [
        "!pip install pymorphy2[fast]\n",
        "!pip install -U pymorphy2-dicts-ru"
      ],
      "metadata": {
        "colab": {
          "base_uri": "https://localhost:8080/"
        },
        "id": "ZQyQXH__GrYK",
        "outputId": "5c908b12-e77b-45c8-f7ca-53e48d4c1f21"
      },
      "execution_count": 65,
      "outputs": [
        {
          "output_type": "stream",
          "name": "stdout",
          "text": [
            "Requirement already satisfied: pymorphy2[fast] in /usr/local/lib/python3.7/dist-packages (0.9.1)\n",
            "Requirement already satisfied: pymorphy2-dicts-ru<3.0,>=2.4 in /usr/local/lib/python3.7/dist-packages (from pymorphy2[fast]) (2.4.417127.4579844)\n",
            "Requirement already satisfied: docopt>=0.6 in /usr/local/lib/python3.7/dist-packages (from pymorphy2[fast]) (0.6.2)\n",
            "Requirement already satisfied: dawg-python>=0.7.1 in /usr/local/lib/python3.7/dist-packages (from pymorphy2[fast]) (0.7.2)\n",
            "Requirement already satisfied: DAWG>=0.8 in /usr/local/lib/python3.7/dist-packages (from pymorphy2[fast]) (0.8.0)\n",
            "Requirement already satisfied: pymorphy2-dicts-ru in /usr/local/lib/python3.7/dist-packages (2.4.417127.4579844)\n"
          ]
        }
      ]
    },
    {
      "cell_type": "code",
      "source": [
        "import pymorphy2\n",
        "morph = pymorphy2.MorphAnalyzer()"
      ],
      "metadata": {
        "id": "CuOjjalWGrbk"
      },
      "execution_count": 66,
      "outputs": []
    },
    {
      "cell_type": "code",
      "source": [
        "morph.parse('думающему')[0].normal_form"
      ],
      "metadata": {
        "colab": {
          "base_uri": "https://localhost:8080/",
          "height": 35
        },
        "id": "89yKSdlCGrfS",
        "outputId": "15096bd9-9811-465f-a904-7eb8981c8e36"
      },
      "execution_count": 67,
      "outputs": [
        {
          "output_type": "execute_result",
          "data": {
            "text/plain": [
              "'думать'"
            ],
            "application/vnd.google.colaboratory.intrinsic+json": {
              "type": "string"
            }
          },
          "metadata": {},
          "execution_count": 67
        }
      ]
    },
    {
      "cell_type": "code",
      "source": [
        "for i in sent[:5]:\n",
        "  print(i)"
      ],
      "metadata": {
        "colab": {
          "base_uri": "https://localhost:8080/"
        },
        "id": "vEW_Za5uIdkB",
        "outputId": "31c86639-1785-4a5e-a564-41d7ce485528"
      },
      "execution_count": 68,
      "outputs": [
        {
          "output_type": "stream",
          "name": "stdout",
          "text": [
            "['first_timee', 'хоть', 'я', 'и', 'школота', 'но', 'поверь', 'у', 'нас', 'то', 'же', 'самое', 'd', 'общество', 'профилирующий', 'предмет', 'типа']\n",
            "['да', 'все-таки', 'он', 'немного', 'похож', 'на', 'него', 'но', 'мой', 'мальчик', 'все', 'равно', 'лучше', 'd']\n",
            "['rt', 'katiacheh', 'ну', 'ты', 'идиотка', 'я', 'испугалась', 'за', 'тебя']\n",
            "['rt', 'digger2912', '``', 'кто', 'то', 'в', 'углу', 'сидит', 'и', 'погибает', 'от', 'голода', 'а', 'мы', 'ещё', '2', 'порции', 'взяли', 'хотя', 'уже', 'и', 'так', 'жрать', 'не', 'хотим', \"''\", 'dd', 'http', '//t.co/gqg6iue2…']\n",
            "['irina_dyshkant', 'вот', 'что', 'значит', 'страшилка', 'd', 'но', 'блин', 'посмотрев', 'все', 'части', 'у', 'тебя', 'создастся', 'ощущение', 'что', 'авторы', 'курили', 'что-то', 'd']\n"
          ]
        }
      ]
    },
    {
      "cell_type": "code",
      "source": [
        "for i in sent[:5]:\n",
        "  normalize = []\n",
        "  for j in i:\n",
        "    normalize.append(morph.parse(j)[0].normal_form)\n",
        "  print(normalize)"
      ],
      "metadata": {
        "colab": {
          "base_uri": "https://localhost:8080/"
        },
        "id": "RsZMvKAgIsXh",
        "outputId": "8e4a1d67-5dab-4061-c79b-b1b402307d93"
      },
      "execution_count": 69,
      "outputs": [
        {
          "output_type": "stream",
          "name": "stdout",
          "text": [
            "['first_timee', 'хоть', 'я', 'и', 'школотый', 'но', 'поверь', 'у', 'мы', 'то', 'же', 'самый', 'd', 'общество', 'профилировать', 'предмет', 'тип']\n",
            "['да', 'всё-таки', 'он', 'немного', 'похожий', 'на', 'он', 'но', 'мой', 'мальчик', 'всё', 'равно', 'хороший', 'd']\n",
            "['rt', 'katiacheh', 'ну', 'ты', 'идиотка', 'я', 'испугаться', 'за', 'ты']\n",
            "['rt', 'digger2912', '``', 'кто', 'то', 'в', 'угол', 'сидеть', 'и', 'погибать', 'от', 'голод', 'а', 'мы', 'ещё', '2', 'порция', 'взять', 'хотя', 'уже', 'и', 'так', 'жрать', 'не', 'хотеть', \"''\", 'dd', 'http', '//t.co/gqg6iue2…']\n",
            "['irina_dyshkant', 'вот', 'что', 'значит', 'страшилка', 'd', 'но', 'блин', 'посмотреть', 'всё', 'часть', 'у', 'ты', 'создаться', 'ощущение', 'что', 'автор', 'курить', 'что-то', 'd']\n"
          ]
        }
      ]
    },
    {
      "cell_type": "markdown",
      "source": [
        "# Со звездочкой."
      ],
      "metadata": {
        "id": "ddNY8W4bxNy2"
      }
    },
    {
      "cell_type": "code",
      "source": [
        "!pip install pymystem3"
      ],
      "metadata": {
        "colab": {
          "base_uri": "https://localhost:8080/"
        },
        "id": "5dclAZ8vJQuN",
        "outputId": "8929e100-361d-4405-84b8-a9124d566bc1"
      },
      "execution_count": 70,
      "outputs": [
        {
          "output_type": "stream",
          "name": "stdout",
          "text": [
            "Requirement already satisfied: pymystem3 in /usr/local/lib/python3.7/dist-packages (0.2.0)\n",
            "Requirement already satisfied: requests in /usr/local/lib/python3.7/dist-packages (from pymystem3) (2.23.0)\n",
            "Requirement already satisfied: certifi>=2017.4.17 in /usr/local/lib/python3.7/dist-packages (from requests->pymystem3) (2021.10.8)\n",
            "Requirement already satisfied: chardet<4,>=3.0.2 in /usr/local/lib/python3.7/dist-packages (from requests->pymystem3) (3.0.4)\n",
            "Requirement already satisfied: urllib3!=1.25.0,!=1.25.1,<1.26,>=1.21.1 in /usr/local/lib/python3.7/dist-packages (from requests->pymystem3) (1.24.3)\n",
            "Requirement already satisfied: idna<3,>=2.5 in /usr/local/lib/python3.7/dist-packages (from requests->pymystem3) (2.10)\n"
          ]
        }
      ]
    },
    {
      "cell_type": "code",
      "source": [
        ""
      ],
      "metadata": {
        "id": "VgN-TMcoJQyo"
      },
      "execution_count": 70,
      "outputs": []
    },
    {
      "cell_type": "markdown",
      "source": [
        "# Задание 6."
      ],
      "metadata": {
        "id": "PHNkba7OxNwa"
      }
    },
    {
      "cell_type": "code",
      "source": [
        "list(pos['ttext'])[:5]"
      ],
      "metadata": {
        "colab": {
          "base_uri": "https://localhost:8080/"
        },
        "id": "Qi4S3cfoO3G0",
        "outputId": "2dd4a3a1-540b-411f-a3d5-0d08204d88a3"
      },
      "execution_count": 71,
      "outputs": [
        {
          "output_type": "execute_result",
          "data": {
            "text/plain": [
              "['@first_timee хоть я и школота, но поверь, у нас то же самое :D общество профилирующий предмет типа)',\n",
              " 'Да, все-таки он немного похож на него. Но мой мальчик все равно лучше:D',\n",
              " 'RT @KatiaCheh: Ну ты идиотка) я испугалась за тебя!!!',\n",
              " 'RT @digger2912: \"Кто то в углу сидит и погибает от голода, а мы ещё 2 порции взяли, хотя уже и так жрать не хотим\" :DD http://t.co/GqG6iuE2…',\n",
              " '@irina_dyshkant Вот что значит страшилка :D\\nНо блин,посмотрев все части,у тебя создастся ощущение,что авторы курили что-то :D']"
            ]
          },
          "metadata": {},
          "execution_count": 71
        }
      ]
    },
    {
      "cell_type": "code",
      "source": [
        "pos['ttext'][:5]"
      ],
      "metadata": {
        "colab": {
          "base_uri": "https://localhost:8080/"
        },
        "id": "TqI6QjRRO3Jc",
        "outputId": "5ec23479-f7cf-4949-c0ed-da6a9002abc1"
      },
      "execution_count": 72,
      "outputs": [
        {
          "output_type": "execute_result",
          "data": {
            "text/plain": [
              "0    @first_timee хоть я и школота, но поверь, у на...\n",
              "1    Да, все-таки он немного похож на него. Но мой ...\n",
              "2    RT @KatiaCheh: Ну ты идиотка) я испугалась за ...\n",
              "3    RT @digger2912: \"Кто то в углу сидит и погибае...\n",
              "4    @irina_dyshkant Вот что значит страшилка :D\\nН...\n",
              "Name: ttext, dtype: object"
            ]
          },
          "metadata": {},
          "execution_count": 72
        }
      ]
    },
    {
      "cell_type": "code",
      "source": [
        "sentPos = ' '.join(list(pos['ttext']))\n",
        "fdist = nltk.FreqDist(word.lower() for word in word_tokenize(sentPos))\n",
        "fdist.most_common(10)"
      ],
      "metadata": {
        "colab": {
          "base_uri": "https://localhost:8080/"
        },
        "id": "jLwr3ollNWd9",
        "outputId": "62318e6e-477e-4fc7-e5e0-76b6d462c903"
      },
      "execution_count": 105,
      "outputs": [
        {
          "output_type": "execute_result",
          "data": {
            "text/plain": [
              "[(')', 194005),\n",
              " (':', 103303),\n",
              " (',', 97459),\n",
              " ('@', 88904),\n",
              " ('!', 36605),\n",
              " ('и', 31968),\n",
              " ('я', 30249),\n",
              " ('не', 29449),\n",
              " ('в', 29172),\n",
              " ('.', 28824)]"
            ]
          },
          "metadata": {},
          "execution_count": 105
        }
      ]
    },
    {
      "cell_type": "code",
      "source": [
        "sentNeg = ' '.join(list(neg['ttext']))\n",
        "fdistNeg = nltk.FreqDist(word.lower() for word in word_tokenize(sentNeg))\n",
        "fdistNeg.most_common(10)"
      ],
      "metadata": {
        "colab": {
          "base_uri": "https://localhost:8080/"
        },
        "id": "F_QxBURTPFL1",
        "outputId": "dc707701-7e16-4a2f-b0d7-61b92bb4cab8"
      },
      "execution_count": 74,
      "outputs": [
        {
          "output_type": "execute_result",
          "data": {
            "text/plain": [
              "[('(', 212404),\n",
              " (',', 90836),\n",
              " (':', 74363),\n",
              " ('@', 61074),\n",
              " ('не', 44976),\n",
              " ('я', 34508),\n",
              " ('.', 30892),\n",
              " ('!', 30318),\n",
              " ('и', 28223),\n",
              " ('в', 27722)]"
            ]
          },
          "metadata": {},
          "execution_count": 74
        }
      ]
    },
    {
      "cell_type": "markdown",
      "source": [
        "# Задание 7."
      ],
      "metadata": {
        "id": "O_DUJO8DO9Cj"
      }
    },
    {
      "cell_type": "code",
      "source": [
        "import nltk\n",
        "nltk.download('stopwords')\n",
        "from nltk.corpus import stopwords\n",
        "print(stopwords.words('russian'))"
      ],
      "metadata": {
        "colab": {
          "base_uri": "https://localhost:8080/"
        },
        "id": "KWYpOji7PCys",
        "outputId": "230c962a-383e-4317-e983-b3f65f55ce9c"
      },
      "execution_count": 81,
      "outputs": [
        {
          "output_type": "stream",
          "name": "stdout",
          "text": [
            "[nltk_data] Downloading package stopwords to /root/nltk_data...\n",
            "[nltk_data]   Package stopwords is already up-to-date!\n",
            "['и', 'в', 'во', 'не', 'что', 'он', 'на', 'я', 'с', 'со', 'как', 'а', 'то', 'все', 'она', 'так', 'его', 'но', 'да', 'ты', 'к', 'у', 'же', 'вы', 'за', 'бы', 'по', 'только', 'ее', 'мне', 'было', 'вот', 'от', 'меня', 'еще', 'нет', 'о', 'из', 'ему', 'теперь', 'когда', 'даже', 'ну', 'вдруг', 'ли', 'если', 'уже', 'или', 'ни', 'быть', 'был', 'него', 'до', 'вас', 'нибудь', 'опять', 'уж', 'вам', 'ведь', 'там', 'потом', 'себя', 'ничего', 'ей', 'может', 'они', 'тут', 'где', 'есть', 'надо', 'ней', 'для', 'мы', 'тебя', 'их', 'чем', 'была', 'сам', 'чтоб', 'без', 'будто', 'чего', 'раз', 'тоже', 'себе', 'под', 'будет', 'ж', 'тогда', 'кто', 'этот', 'того', 'потому', 'этого', 'какой', 'совсем', 'ним', 'здесь', 'этом', 'один', 'почти', 'мой', 'тем', 'чтобы', 'нее', 'сейчас', 'были', 'куда', 'зачем', 'всех', 'никогда', 'можно', 'при', 'наконец', 'два', 'об', 'другой', 'хоть', 'после', 'над', 'больше', 'тот', 'через', 'эти', 'нас', 'про', 'всего', 'них', 'какая', 'много', 'разве', 'три', 'эту', 'моя', 'впрочем', 'хорошо', 'свою', 'этой', 'перед', 'иногда', 'лучше', 'чуть', 'том', 'нельзя', 'такой', 'им', 'более', 'всегда', 'конечно', 'всю', 'между']\n"
          ]
        }
      ]
    },
    {
      "cell_type": "code",
      "source": [
        "print(sent[0])\n",
        "print(sent[1])\n",
        "print(sent[2])\n",
        "print(sent[3])"
      ],
      "metadata": {
        "id": "Iok2t1EoPC0_",
        "colab": {
          "base_uri": "https://localhost:8080/"
        },
        "outputId": "f1cc421e-1abe-49ec-aafa-c626e247c7f3"
      },
      "execution_count": 94,
      "outputs": [
        {
          "output_type": "stream",
          "name": "stdout",
          "text": [
            "['first_timee', 'хоть', 'я', 'и', 'школота', 'но', 'поверь', 'у', 'нас', 'то', 'же', 'самое', 'd', 'общество', 'профилирующий', 'предмет', 'типа']\n",
            "['да', 'все-таки', 'он', 'немного', 'похож', 'на', 'него', 'но', 'мой', 'мальчик', 'все', 'равно', 'лучше', 'd']\n",
            "['rt', 'katiacheh', 'ну', 'ты', 'идиотка', 'я', 'испугалась', 'за', 'тебя']\n",
            "['rt', 'digger2912', '``', 'кто', 'то', 'в', 'углу', 'сидит', 'и', 'погибает', 'от', 'голода', 'а', 'мы', 'ещё', '2', 'порции', 'взяли', 'хотя', 'уже', 'и', 'так', 'жрать', 'не', 'хотим', \"''\", 'dd', 'http', '//t.co/gqg6iue2…']\n"
          ]
        }
      ]
    },
    {
      "cell_type": "code",
      "source": [
        "remove_sw = [word for sentence in sent[:10] for word in sentence if not word in stopwords.words('russian')]"
      ],
      "metadata": {
        "id": "rWEPDIm0PC3U"
      },
      "execution_count": 99,
      "outputs": []
    },
    {
      "cell_type": "code",
      "source": [
        "print(remove_sw)"
      ],
      "metadata": {
        "colab": {
          "base_uri": "https://localhost:8080/"
        },
        "id": "B85_FRz2Tysa",
        "outputId": "79c18610-d865-4928-a0ed-a3b366ac428e"
      },
      "execution_count": 101,
      "outputs": [
        {
          "output_type": "stream",
          "name": "stdout",
          "text": [
            "['first_timee', 'школота', 'поверь', 'самое', 'd', 'общество', 'профилирующий', 'предмет', 'типа', 'все-таки', 'немного', 'похож', 'мальчик', 'равно', 'd', 'rt', 'katiacheh', 'идиотка', 'испугалась', 'rt', 'digger2912', '``', 'углу', 'сидит', 'погибает', 'голода', 'ещё', '2', 'порции', 'взяли', 'хотя', 'жрать', 'хотим', \"''\", 'dd', 'http', '//t.co/gqg6iue2…', 'irina_dyshkant', 'значит', 'страшилка', 'd', 'блин', 'посмотрев', 'части', 'создастся', 'ощущение', 'авторы', 'курили', 'что-то', 'd', 'любишь', '—', 'знаю', 'бля', 'd', 'http', '//t.co/brf9eng1u6', 'rt', 'spoonlamer', 'ох,900', 'd', 'это', 'twinkleayo', 'друзей', 'такая', 'мимими', 'lt', '3', 'rt', 'veregijytaqo', 'ухажёр', 'мои', 'уши', 'жрёт', 'd', 'поприветствуем', 'моего', 'нового', 'читателя', 'alexey1789', 'частичка', 'сиднея', 'sydney', 'sydneyoperahouse', 'http', '//t.co/agnto3czei']\n"
          ]
        }
      ]
    },
    {
      "cell_type": "code",
      "source": [
        "stopwords.words('russian')"
      ],
      "metadata": {
        "colab": {
          "base_uri": "https://localhost:8080/"
        },
        "id": "XDDiOXCOTuzp",
        "outputId": "67c2347b-d2bb-443b-c61d-affaf0b5feda"
      },
      "execution_count": 90,
      "outputs": [
        {
          "output_type": "execute_result",
          "data": {
            "text/plain": [
              "['и',\n",
              " 'в',\n",
              " 'во',\n",
              " 'не',\n",
              " 'что',\n",
              " 'он',\n",
              " 'на',\n",
              " 'я',\n",
              " 'с',\n",
              " 'со',\n",
              " 'как',\n",
              " 'а',\n",
              " 'то',\n",
              " 'все',\n",
              " 'она',\n",
              " 'так',\n",
              " 'его',\n",
              " 'но',\n",
              " 'да',\n",
              " 'ты',\n",
              " 'к',\n",
              " 'у',\n",
              " 'же',\n",
              " 'вы',\n",
              " 'за',\n",
              " 'бы',\n",
              " 'по',\n",
              " 'только',\n",
              " 'ее',\n",
              " 'мне',\n",
              " 'было',\n",
              " 'вот',\n",
              " 'от',\n",
              " 'меня',\n",
              " 'еще',\n",
              " 'нет',\n",
              " 'о',\n",
              " 'из',\n",
              " 'ему',\n",
              " 'теперь',\n",
              " 'когда',\n",
              " 'даже',\n",
              " 'ну',\n",
              " 'вдруг',\n",
              " 'ли',\n",
              " 'если',\n",
              " 'уже',\n",
              " 'или',\n",
              " 'ни',\n",
              " 'быть',\n",
              " 'был',\n",
              " 'него',\n",
              " 'до',\n",
              " 'вас',\n",
              " 'нибудь',\n",
              " 'опять',\n",
              " 'уж',\n",
              " 'вам',\n",
              " 'ведь',\n",
              " 'там',\n",
              " 'потом',\n",
              " 'себя',\n",
              " 'ничего',\n",
              " 'ей',\n",
              " 'может',\n",
              " 'они',\n",
              " 'тут',\n",
              " 'где',\n",
              " 'есть',\n",
              " 'надо',\n",
              " 'ней',\n",
              " 'для',\n",
              " 'мы',\n",
              " 'тебя',\n",
              " 'их',\n",
              " 'чем',\n",
              " 'была',\n",
              " 'сам',\n",
              " 'чтоб',\n",
              " 'без',\n",
              " 'будто',\n",
              " 'чего',\n",
              " 'раз',\n",
              " 'тоже',\n",
              " 'себе',\n",
              " 'под',\n",
              " 'будет',\n",
              " 'ж',\n",
              " 'тогда',\n",
              " 'кто',\n",
              " 'этот',\n",
              " 'того',\n",
              " 'потому',\n",
              " 'этого',\n",
              " 'какой',\n",
              " 'совсем',\n",
              " 'ним',\n",
              " 'здесь',\n",
              " 'этом',\n",
              " 'один',\n",
              " 'почти',\n",
              " 'мой',\n",
              " 'тем',\n",
              " 'чтобы',\n",
              " 'нее',\n",
              " 'сейчас',\n",
              " 'были',\n",
              " 'куда',\n",
              " 'зачем',\n",
              " 'всех',\n",
              " 'никогда',\n",
              " 'можно',\n",
              " 'при',\n",
              " 'наконец',\n",
              " 'два',\n",
              " 'об',\n",
              " 'другой',\n",
              " 'хоть',\n",
              " 'после',\n",
              " 'над',\n",
              " 'больше',\n",
              " 'тот',\n",
              " 'через',\n",
              " 'эти',\n",
              " 'нас',\n",
              " 'про',\n",
              " 'всего',\n",
              " 'них',\n",
              " 'какая',\n",
              " 'много',\n",
              " 'разве',\n",
              " 'три',\n",
              " 'эту',\n",
              " 'моя',\n",
              " 'впрочем',\n",
              " 'хорошо',\n",
              " 'свою',\n",
              " 'этой',\n",
              " 'перед',\n",
              " 'иногда',\n",
              " 'лучше',\n",
              " 'чуть',\n",
              " 'том',\n",
              " 'нельзя',\n",
              " 'такой',\n",
              " 'им',\n",
              " 'более',\n",
              " 'всегда',\n",
              " 'конечно',\n",
              " 'всю',\n",
              " 'между']"
            ]
          },
          "metadata": {},
          "execution_count": 90
        }
      ]
    },
    {
      "cell_type": "markdown",
      "source": [
        "# Задание 8."
      ],
      "metadata": {
        "id": "mogn72rIO9t9"
      }
    },
    {
      "cell_type": "code",
      "source": [
        "import matplotlib.pyplot as plt\n",
        "positive = pos['ttext']\n",
        "negative = neg['ttext']"
      ],
      "metadata": {
        "id": "FPIRVKLTw4Jx"
      },
      "execution_count": null,
      "outputs": []
    },
    {
      "cell_type": "code",
      "source": [
        ""
      ],
      "metadata": {
        "id": "Trhk4NhxW9Sj"
      },
      "execution_count": null,
      "outputs": []
    },
    {
      "cell_type": "code",
      "source": [
        "plt.hist(x, num_bins, \n",
        "                            density = 1, \n",
        "                            color ='green',\n",
        "                            alpha = 0.7)"
      ],
      "metadata": {
        "id": "FpRMhkscNiDy"
      },
      "execution_count": null,
      "outputs": []
    },
    {
      "cell_type": "code",
      "source": [
        ""
      ],
      "metadata": {
        "id": "X7lDJRT2JzXO"
      },
      "execution_count": null,
      "outputs": []
    }
  ]
}